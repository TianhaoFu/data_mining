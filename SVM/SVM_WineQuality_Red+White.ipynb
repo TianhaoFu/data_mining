{
 "cells": [
  {
   "cell_type": "code",
   "execution_count": 2,
   "metadata": {},
   "outputs": [],
   "source": [
    "import numpy as np\n",
    "import pandas as pd\n",
    "from sklearn import svm\n",
    "from sklearn.model_selection import train_test_split as ts\n",
    "from sklearn.model_selection import KFold"
   ]
  },
  {
   "cell_type": "markdown",
   "metadata": {},
   "source": [
    "# 1、导入数据并进行预处理"
   ]
  },
  {
   "cell_type": "code",
   "execution_count": 3,
   "metadata": {},
   "outputs": [],
   "source": [
    "# 多分类数据\n",
    "df1 =pd.read_csv('C:\\\\Users\\\\Tianh\\\\Desktop\\\\DMLab\\\\data\\\\wineequality\\\\winequality-red.csv',delimiter=';')\n",
    "# df1 =pd.read_csv('C:\\\\Users\\\\Tianh\\\\Desktop\\\\DMLab\\\\data\\\\wineequality\\\\winequality-white.csv',delimiter=';')"
   ]
  },
  {
   "cell_type": "code",
   "execution_count": 4,
   "metadata": {},
   "outputs": [
    {
     "data": {
      "text/html": [
       "<div>\n",
       "<style scoped>\n",
       "    .dataframe tbody tr th:only-of-type {\n",
       "        vertical-align: middle;\n",
       "    }\n",
       "\n",
       "    .dataframe tbody tr th {\n",
       "        vertical-align: top;\n",
       "    }\n",
       "\n",
       "    .dataframe thead th {\n",
       "        text-align: right;\n",
       "    }\n",
       "</style>\n",
       "<table border=\"1\" class=\"dataframe\">\n",
       "  <thead>\n",
       "    <tr style=\"text-align: right;\">\n",
       "      <th></th>\n",
       "      <th>fixed acidity</th>\n",
       "      <th>volatile acidity</th>\n",
       "      <th>citric acid</th>\n",
       "      <th>residual sugar</th>\n",
       "      <th>chlorides</th>\n",
       "      <th>free sulfur dioxide</th>\n",
       "      <th>total sulfur dioxide</th>\n",
       "      <th>density</th>\n",
       "      <th>pH</th>\n",
       "      <th>sulphates</th>\n",
       "      <th>alcohol</th>\n",
       "      <th>quality</th>\n",
       "    </tr>\n",
       "  </thead>\n",
       "  <tbody>\n",
       "    <tr>\n",
       "      <th>0</th>\n",
       "      <td>7.4</td>\n",
       "      <td>0.70</td>\n",
       "      <td>0.00</td>\n",
       "      <td>1.9</td>\n",
       "      <td>0.076</td>\n",
       "      <td>11.0</td>\n",
       "      <td>34.0</td>\n",
       "      <td>0.9978</td>\n",
       "      <td>3.51</td>\n",
       "      <td>0.56</td>\n",
       "      <td>9.4</td>\n",
       "      <td>5</td>\n",
       "    </tr>\n",
       "    <tr>\n",
       "      <th>1</th>\n",
       "      <td>7.8</td>\n",
       "      <td>0.88</td>\n",
       "      <td>0.00</td>\n",
       "      <td>2.6</td>\n",
       "      <td>0.098</td>\n",
       "      <td>25.0</td>\n",
       "      <td>67.0</td>\n",
       "      <td>0.9968</td>\n",
       "      <td>3.20</td>\n",
       "      <td>0.68</td>\n",
       "      <td>9.8</td>\n",
       "      <td>5</td>\n",
       "    </tr>\n",
       "    <tr>\n",
       "      <th>2</th>\n",
       "      <td>7.8</td>\n",
       "      <td>0.76</td>\n",
       "      <td>0.04</td>\n",
       "      <td>2.3</td>\n",
       "      <td>0.092</td>\n",
       "      <td>15.0</td>\n",
       "      <td>54.0</td>\n",
       "      <td>0.9970</td>\n",
       "      <td>3.26</td>\n",
       "      <td>0.65</td>\n",
       "      <td>9.8</td>\n",
       "      <td>5</td>\n",
       "    </tr>\n",
       "    <tr>\n",
       "      <th>3</th>\n",
       "      <td>11.2</td>\n",
       "      <td>0.28</td>\n",
       "      <td>0.56</td>\n",
       "      <td>1.9</td>\n",
       "      <td>0.075</td>\n",
       "      <td>17.0</td>\n",
       "      <td>60.0</td>\n",
       "      <td>0.9980</td>\n",
       "      <td>3.16</td>\n",
       "      <td>0.58</td>\n",
       "      <td>9.8</td>\n",
       "      <td>6</td>\n",
       "    </tr>\n",
       "    <tr>\n",
       "      <th>4</th>\n",
       "      <td>7.4</td>\n",
       "      <td>0.70</td>\n",
       "      <td>0.00</td>\n",
       "      <td>1.9</td>\n",
       "      <td>0.076</td>\n",
       "      <td>11.0</td>\n",
       "      <td>34.0</td>\n",
       "      <td>0.9978</td>\n",
       "      <td>3.51</td>\n",
       "      <td>0.56</td>\n",
       "      <td>9.4</td>\n",
       "      <td>5</td>\n",
       "    </tr>\n",
       "  </tbody>\n",
       "</table>\n",
       "</div>"
      ],
      "text/plain": [
       "   fixed acidity  volatile acidity  citric acid  residual sugar  chlorides  \\\n",
       "0            7.4              0.70         0.00             1.9      0.076   \n",
       "1            7.8              0.88         0.00             2.6      0.098   \n",
       "2            7.8              0.76         0.04             2.3      0.092   \n",
       "3           11.2              0.28         0.56             1.9      0.075   \n",
       "4            7.4              0.70         0.00             1.9      0.076   \n",
       "\n",
       "   free sulfur dioxide  total sulfur dioxide  density    pH  sulphates  \\\n",
       "0                 11.0                  34.0   0.9978  3.51       0.56   \n",
       "1                 25.0                  67.0   0.9968  3.20       0.68   \n",
       "2                 15.0                  54.0   0.9970  3.26       0.65   \n",
       "3                 17.0                  60.0   0.9980  3.16       0.58   \n",
       "4                 11.0                  34.0   0.9978  3.51       0.56   \n",
       "\n",
       "   alcohol  quality  \n",
       "0      9.4        5  \n",
       "1      9.8        5  \n",
       "2      9.8        5  \n",
       "3      9.8        6  \n",
       "4      9.4        5  "
      ]
     },
     "execution_count": 4,
     "metadata": {},
     "output_type": "execute_result"
    }
   ],
   "source": [
    "df1.head()"
   ]
  },
  {
   "cell_type": "markdown",
   "metadata": {},
   "source": [
    "# 2、 运用SVM进行多分类"
   ]
  },
  {
   "cell_type": "code",
   "execution_count": 7,
   "metadata": {},
   "outputs": [],
   "source": [
    "y1 = df1['quality']\n",
    "y1 = np.array(y1)\n",
    "X1 = df1.drop('quality',axis=1)\n",
    "X1 = np.array(X1)"
   ]
  },
  {
   "cell_type": "markdown",
   "metadata": {},
   "source": [
    "## （1）留出法训练模型并评价"
   ]
  },
  {
   "cell_type": "code",
   "execution_count": 8,
   "metadata": {},
   "outputs": [],
   "source": [
    "# 留出法\n",
    "X1_train,X1_test,y1_train,y1_test = ts(X1,y1,test_size=0.3)"
   ]
  },
  {
   "cell_type": "markdown",
   "metadata": {},
   "source": [
    "## （2）5折交叉验证法训练模型并评价"
   ]
  },
  {
   "cell_type": "code",
   "execution_count": null,
   "metadata": {},
   "outputs": [],
   "source": [
    "# 5折交叉验证法\n",
    "kf = KFold(n_splits=5)\n",
    "for train_index, test_index in kf.split(X1):\n",
    "#     print('train_index', train_index, 'test_index', test_index)\n",
    "    X1_train, y1_train = X1[train_index], y1[train_index]\n",
    "    X1_test, y1_test = X1[test_index], y1[test_index]"
   ]
  },
  {
   "cell_type": "code",
   "execution_count": 10,
   "metadata": {},
   "outputs": [],
   "source": [
    "# SVC 和 NuSVC 使用了“one-against-one”方法（Knerr et al.,1990）\n",
    "# 对于多类目标分类。如果n_class是类别的数目，\n",
    "# 那么n_class * （n_class - 1）/2个分类器会被构造并且每一个都要从两类数据中经过训练。\n",
    "# 为了提供与其他分类一致的接口，\n",
    "# 这个decision_function_shape选项允许集合“one-against-one”分类器的\n",
    "# 所有结果到一个大小为(n_samples,n_classes)的决策函数中：\n",
    "\n",
    "# SVC和NuSVC实现“1v1“的方法进行多分类（Knerr et al，1990）。\n",
    "# 如果n_class是类别的数量，那么需要建立n*n/2个分类器，\n",
    "# desision_function_shape选项允许集成“1v1”分类器来刻画（n_samples,n_features）"
   ]
  },
  {
   "cell_type": "code",
   "execution_count": null,
   "metadata": {},
   "outputs": [],
   "source": []
  },
  {
   "cell_type": "code",
   "execution_count": 11,
   "metadata": {},
   "outputs": [],
   "source": [
    "# select different type of kernel function and compare the score"
   ]
  },
  {
   "cell_type": "code",
   "execution_count": null,
   "metadata": {},
   "outputs": [
    {
     "name": "stderr",
     "output_type": "stream",
     "text": [
      "D:\\Users\\Tianh\\Anaconda3\\lib\\site-packages\\sklearn\\svm\\base.py:193: FutureWarning: The default value of gamma will change from 'auto' to 'scale' in version 0.22 to account better for unscaled features. Set gamma explicitly to 'auto' or 'scale' to avoid this warning.\n",
      "  \"avoid this warning.\", FutureWarning)\n"
     ]
    },
    {
     "name": "stdout",
     "output_type": "stream",
     "text": [
      "The score of rbf_1 is : 0.479624\n",
      "The score of rbf_ovo is : 0.479624\n"
     ]
    },
    {
     "name": "stderr",
     "output_type": "stream",
     "text": [
      "D:\\Users\\Tianh\\Anaconda3\\lib\\site-packages\\sklearn\\svm\\base.py:193: FutureWarning: The default value of gamma will change from 'auto' to 'scale' in version 0.22 to account better for unscaled features. Set gamma explicitly to 'auto' or 'scale' to avoid this warning.\n",
      "  \"avoid this warning.\", FutureWarning)\n",
      "D:\\Users\\Tianh\\Anaconda3\\lib\\site-packages\\sklearn\\svm\\base.py:193: FutureWarning: The default value of gamma will change from 'auto' to 'scale' in version 0.22 to account better for unscaled features. Set gamma explicitly to 'auto' or 'scale' to avoid this warning.\n",
      "  \"avoid this warning.\", FutureWarning)\n"
     ]
    },
    {
     "name": "stdout",
     "output_type": "stream",
     "text": [
      "The score of rbf_ovr is : 0.479624\n",
      "The score of linear_ovo is : 0.633229\n",
      "The score of linear_ovr is : 0.633229\n"
     ]
    },
    {
     "name": "stderr",
     "output_type": "stream",
     "text": [
      "D:\\Users\\Tianh\\Anaconda3\\lib\\site-packages\\sklearn\\svm\\base.py:193: FutureWarning: The default value of gamma will change from 'auto' to 'scale' in version 0.22 to account better for unscaled features. Set gamma explicitly to 'auto' or 'scale' to avoid this warning.\n",
      "  \"avoid this warning.\", FutureWarning)\n"
     ]
    }
   ],
   "source": [
    "# kernel = 'rbf'\n",
    "clf_rbf = svm.SVC(probability=True,kernel='rbf')\n",
    "# 设置为多分类 \n",
    "clf_rbf.fit(X1_train,y1_train)\n",
    "score_rbf = clf_rbf.score(X1_test,y1_test)\n",
    "print(\"The score of rbf_1 is : %f\"%score_rbf)\n",
    "\n",
    "# kernel = 'rbf'\n",
    "clf_rbf = svm.SVC(decision_function_shape='ovo',kernel='rbf')\n",
    "# 设置为多分类 1 vs 1\n",
    "clf_rbf.fit(X1_train,y1_train)\n",
    "score_rbf = clf_rbf.score(X1_test,y1_test)\n",
    "print(\"The score of rbf_ovo is : %f\"%score_rbf)\n",
    "\n",
    "# kernel = 'rbf'\n",
    "clf_rbf = svm.SVC(decision_function_shape='ovr',kernel='rbf')\n",
    "# 设置为多分类 1 vs rest\n",
    "clf_rbf.fit(X1_train,y1_train)\n",
    "score_rbf = clf_rbf.score(X1_test,y1_test)\n",
    "print(\"The score of rbf_ovr is : %f\"%score_rbf)\n",
    "\n",
    "# kernel = 'linear'\n",
    "clf_linear = svm.SVC(decision_function_shape='ovo',kernel='linear')\n",
    "clf_linear.fit(X1_train,y1_train)\n",
    "score_linear = clf_linear.score(X1_test,y1_test)\n",
    "print(\"The score of linear_ovo is : %f\"%score_linear)\n",
    "\n",
    "# kernel = 'linear'\n",
    "clf_linear = svm.SVC(decision_function_shape='ovr',kernel='linear')\n",
    "clf_linear.fit(X1_train,y1_train)\n",
    "score_linear = clf_linear.score(X1_test,y1_test)\n",
    "print(\"The score of linear_ovr is : %f\"%score_linear)\n",
    "\n",
    "# kernel = 'poly'\n",
    "clf_poly = svm.SVC(decision_function_shape='ovo',kernel='poly')\n",
    "clf_poly.fit(X1_train,y1_train)\n",
    "score_poly = clf_poly.score(X1_test,y1_test)\n",
    "print(\"The score of poly_ovo is : %f\"%score_poly)\n",
    "\n",
    "# kernel = 'poly'\n",
    "clf_poly = svm.SVC(decision_function_shape='ovr',kernel='poly')\n",
    "clf_poly.fit(X1_train,y1_train)\n",
    "score_poly = clf_poly.score(X1_test,y1_test)\n",
    "print(\"The score of poly_ovr is : %f\"%score_poly)"
   ]
  },
  {
   "cell_type": "code",
   "execution_count": null,
   "metadata": {},
   "outputs": [],
   "source": [
    "# kernel = 'poly'\n",
    "clf_poly = svm.SVC(decision_function_shape='ovr',kernel='poly')\n",
    "clf_poly.fit(X1_train,y1_train)\n",
    "score_poly = clf_poly.score(X1_test,y1_test)\n",
    "print(\"The score of poly_ovr is : %f\"%score_poly)"
   ]
  },
  {
   "cell_type": "code",
   "execution_count": null,
   "metadata": {},
   "outputs": [],
   "source": [
    "# https://blog.csdn.net/m0_37870649/article/details/81747614\n",
    "# https://www.cnblogs.com/jiaxin359/p/8552800.html"
   ]
  },
  {
   "cell_type": "markdown",
   "metadata": {},
   "source": [
    "# 3、从数据集中抽取两类运用SVM进行二分类"
   ]
  },
  {
   "cell_type": "markdown",
   "metadata": {},
   "source": [
    "## (1)数据集预处理（从数据集中抽取两类）"
   ]
  },
  {
   "cell_type": "code",
   "execution_count": null,
   "metadata": {},
   "outputs": [],
   "source": [
    "# 二分类数据\n",
    "df2 = df1.loc[df1['quality'].isin([5,6])]\n",
    "df2.head()"
   ]
  },
  {
   "cell_type": "code",
   "execution_count": null,
   "metadata": {},
   "outputs": [],
   "source": [
    "y2 = df2['quality']\n",
    "y2 = np.array(y2)\n",
    "X2 = df2.drop('quality',axis=1)\n",
    "X2 = np.array(X2)"
   ]
  },
  {
   "cell_type": "markdown",
   "metadata": {},
   "source": [
    "## （1）留出法训练模型并评价"
   ]
  },
  {
   "cell_type": "code",
   "execution_count": null,
   "metadata": {},
   "outputs": [],
   "source": [
    "# 留出法\n",
    "X2_train,X2_test,y2_train,y2_test = ts(X2,y2,test_size=0.3)"
   ]
  },
  {
   "cell_type": "markdown",
   "metadata": {},
   "source": [
    "## （2）5折交叉验证法训练模型并评价"
   ]
  },
  {
   "cell_type": "code",
   "execution_count": null,
   "metadata": {},
   "outputs": [],
   "source": [
    "# 5折交叉验证法\n",
    "kf = KFold(n_splits=5)\n",
    "for train_index, test_index in kf.split(X2):\n",
    "    print('train_index', train_index, 'test_index', test_index)\n",
    "    X2_train, y2_train = X2[train_index], y2[train_index]\n",
    "    X2_test, y2_test = X2[test_index], y2[test_index]"
   ]
  },
  {
   "cell_type": "code",
   "execution_count": null,
   "metadata": {},
   "outputs": [],
   "source": [
    "# kernel = 'rbf'\n",
    "clf_rbf = svm.SVC(kernel='rbf')\n",
    "clf_rbf.fit(X2_train,y2_train)\n",
    "score_rbf = clf_rbf.score(X2_test,y2_test)\n",
    "print(\"The score of rbf is : %f\"%score_rbf)\n",
    "\n",
    "# kernel = 'linear'\n",
    "clf_linear = svm.SVC(kernel='linear')\n",
    "clf_linear.fit(X2_train,y2_train)\n",
    "score_linear = clf_linear.score(X2_test,y2_test)\n",
    "print(\"The score of linear is : %f\"%score_linear)\n",
    "\n",
    "# kernel = 'poly'\n",
    "clf_poly = svm.SVC(kernel='poly')\n",
    "clf_poly.fit(X2_train,y2_train)\n",
    "score_poly = clf_poly.score(X2_test,y2_test)\n",
    "print(\"The score of poly is : %f\"%score_poly)"
   ]
  }
 ],
 "metadata": {
  "kernelspec": {
   "display_name": "Python 3",
   "language": "python",
   "name": "python3"
  },
  "language_info": {
   "codemirror_mode": {
    "name": "ipython",
    "version": 3
   },
   "file_extension": ".py",
   "mimetype": "text/x-python",
   "name": "python",
   "nbconvert_exporter": "python",
   "pygments_lexer": "ipython3",
   "version": "3.7.3"
  }
 },
 "nbformat": 4,
 "nbformat_minor": 2
}
