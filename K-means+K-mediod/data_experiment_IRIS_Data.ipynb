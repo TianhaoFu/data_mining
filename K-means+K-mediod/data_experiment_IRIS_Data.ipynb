{
 "cells": [
  {
   "cell_type": "code",
   "execution_count": 2,
   "metadata": {},
   "outputs": [],
   "source": [
    "import pandas as pd\n",
    "import numpy as np\n",
    "import matplotlib.pyplot as plt\n",
    "from mpl_toolkits.mplot3d import Axes3D\n",
    "\n",
    "from sklearn.cluster import KMeans\n",
    "from sklearn import datasets\n",
    "from sklearn.datasets import load_iris"
   ]
  },
  {
   "cell_type": "code",
   "execution_count": 3,
   "metadata": {},
   "outputs": [],
   "source": [
    "#导入数据集"
   ]
  },
  {
   "cell_type": "code",
   "execution_count": 17,
   "metadata": {},
   "outputs": [
    {
     "name": "stdout",
     "output_type": "stream",
     "text": [
      "(150, 5)\n"
     ]
    },
    {
     "data": {
      "text/html": [
       "<div>\n",
       "<style scoped>\n",
       "    .dataframe tbody tr th:only-of-type {\n",
       "        vertical-align: middle;\n",
       "    }\n",
       "\n",
       "    .dataframe tbody tr th {\n",
       "        vertical-align: top;\n",
       "    }\n",
       "\n",
       "    .dataframe thead th {\n",
       "        text-align: right;\n",
       "    }\n",
       "</style>\n",
       "<table border=\"1\" class=\"dataframe\">\n",
       "  <thead>\n",
       "    <tr style=\"text-align: right;\">\n",
       "      <th></th>\n",
       "      <th>0</th>\n",
       "      <th>1</th>\n",
       "      <th>2</th>\n",
       "      <th>3</th>\n",
       "      <th>4</th>\n",
       "    </tr>\n",
       "  </thead>\n",
       "  <tbody>\n",
       "    <tr>\n",
       "      <th>0</th>\n",
       "      <td>5.1</td>\n",
       "      <td>3.5</td>\n",
       "      <td>1.4</td>\n",
       "      <td>0.2</td>\n",
       "      <td>1</td>\n",
       "    </tr>\n",
       "    <tr>\n",
       "      <th>1</th>\n",
       "      <td>4.9</td>\n",
       "      <td>3.0</td>\n",
       "      <td>1.4</td>\n",
       "      <td>0.2</td>\n",
       "      <td>1</td>\n",
       "    </tr>\n",
       "    <tr>\n",
       "      <th>2</th>\n",
       "      <td>4.7</td>\n",
       "      <td>3.2</td>\n",
       "      <td>1.3</td>\n",
       "      <td>0.2</td>\n",
       "      <td>1</td>\n",
       "    </tr>\n",
       "    <tr>\n",
       "      <th>3</th>\n",
       "      <td>4.6</td>\n",
       "      <td>3.1</td>\n",
       "      <td>1.5</td>\n",
       "      <td>0.2</td>\n",
       "      <td>1</td>\n",
       "    </tr>\n",
       "    <tr>\n",
       "      <th>4</th>\n",
       "      <td>5.0</td>\n",
       "      <td>3.6</td>\n",
       "      <td>1.4</td>\n",
       "      <td>0.2</td>\n",
       "      <td>1</td>\n",
       "    </tr>\n",
       "  </tbody>\n",
       "</table>\n",
       "</div>"
      ],
      "text/plain": [
       "     0    1    2    3  4\n",
       "0  5.1  3.5  1.4  0.2  1\n",
       "1  4.9  3.0  1.4  0.2  1\n",
       "2  4.7  3.2  1.3  0.2  1\n",
       "3  4.6  3.1  1.5  0.2  1\n",
       "4  5.0  3.6  1.4  0.2  1"
      ]
     },
     "execution_count": 17,
     "metadata": {},
     "output_type": "execute_result"
    }
   ],
   "source": [
    "iris = load_iris()\n",
    "X = pd.read_csv(r\"C:\\Users\\\\Tianh\\Desktop\\DMLab\\data\\Iris\\iris_data.csv\",header = None)\n",
    "# X = iris.data[:]\n",
    "print(X.shape)\n",
    "X.head()"
   ]
  },
  {
   "cell_type": "code",
   "execution_count": 5,
   "metadata": {},
   "outputs": [],
   "source": [
    "#提取数据集标签 方便后续使用"
   ]
  },
  {
   "cell_type": "code",
   "execution_count": 6,
   "metadata": {},
   "outputs": [
    {
     "data": {
      "text/plain": [
       "array(['red', 'red', 'red', 'red', 'red', 'red', 'red', 'red', 'red',\n",
       "       'red', 'red', 'red', 'red', 'red', 'red', 'red', 'red', 'red',\n",
       "       'red', 'red', 'red', 'red', 'red', 'red', 'red', 'red', 'red',\n",
       "       'red', 'red', 'red', 'red', 'red', 'red', 'red', 'red', 'red',\n",
       "       'red', 'red', 'red', 'red', 'red', 'red', 'red', 'red', 'red',\n",
       "       'red', 'red', 'red', 'red', 'red', 'blue', 'blue', 'blue', 'blue',\n",
       "       'blue', 'blue', 'blue', 'blue', 'blue', 'blue', 'blue', 'blue',\n",
       "       'blue', 'blue', 'blue', 'blue', 'blue', 'blue', 'blue', 'blue',\n",
       "       'blue', 'blue', 'blue', 'blue', 'blue', 'blue', 'blue', 'blue',\n",
       "       'blue', 'blue', 'blue', 'blue', 'blue', 'blue', 'blue', 'blue',\n",
       "       'blue', 'blue', 'blue', 'blue', 'blue', 'blue', 'blue', 'blue',\n",
       "       'blue', 'blue', 'blue', 'blue', 'blue', 'blue', 'yellow', 'yellow',\n",
       "       'yellow', 'yellow', 'yellow', 'yellow', 'yellow', 'yellow',\n",
       "       'yellow', 'yellow', 'yellow', 'yellow', 'yellow', 'yellow',\n",
       "       'yellow', 'yellow', 'yellow', 'yellow', 'yellow', 'yellow',\n",
       "       'yellow', 'yellow', 'yellow', 'yellow', 'yellow', 'yellow',\n",
       "       'yellow', 'yellow', 'yellow', 'yellow', 'yellow', 'yellow',\n",
       "       'yellow', 'yellow', 'yellow', 'yellow', 'yellow', 'yellow',\n",
       "       'yellow', 'yellow', 'yellow', 'yellow', 'yellow', 'yellow',\n",
       "       'yellow', 'yellow', 'yellow', 'yellow', 'yellow', 'yellow'],\n",
       "      dtype=object)"
      ]
     },
     "execution_count": 6,
     "metadata": {},
     "output_type": "execute_result"
    }
   ],
   "source": [
    "X_label = X.iloc[:,4]\n",
    "X_label = X_label.astype(str)\n",
    "X_label = np.array(X_label)\n",
    "# X_label = X_label.reshape(-1,1)\n",
    "# X_label = X_label.flatten()\n",
    "# print(X_label)\n",
    "for i in range(150):\n",
    "    if X_label[i] == '1':\n",
    "        X_label[i] = 'red'\n",
    "    if X_label[i] == '2':\n",
    "        X_label[i] = 'blue'\n",
    "    if X_label[i] == '3':\n",
    "        X_label[i] = 'yellow'\n",
    "    if X_label[i] == '4':\n",
    "        X_label[i] = 'green'\n",
    "X_label"
   ]
  },
  {
   "cell_type": "code",
   "execution_count": 20,
   "metadata": {},
   "outputs": [
    {
     "data": {
      "text/plain": [
       "0      1\n",
       "1      1\n",
       "2      1\n",
       "3      1\n",
       "4      1\n",
       "5      1\n",
       "6      1\n",
       "7      1\n",
       "8      1\n",
       "9      1\n",
       "10     1\n",
       "11     1\n",
       "12     1\n",
       "13     1\n",
       "14     1\n",
       "15     1\n",
       "16     1\n",
       "17     1\n",
       "18     1\n",
       "19     1\n",
       "20     1\n",
       "21     1\n",
       "22     1\n",
       "23     1\n",
       "24     1\n",
       "25     1\n",
       "26     1\n",
       "27     1\n",
       "28     1\n",
       "29     1\n",
       "      ..\n",
       "120    3\n",
       "121    3\n",
       "122    3\n",
       "123    3\n",
       "124    3\n",
       "125    3\n",
       "126    3\n",
       "127    3\n",
       "128    3\n",
       "129    3\n",
       "130    3\n",
       "131    3\n",
       "132    3\n",
       "133    3\n",
       "134    3\n",
       "135    3\n",
       "136    3\n",
       "137    3\n",
       "138    3\n",
       "139    3\n",
       "140    3\n",
       "141    3\n",
       "142    3\n",
       "143    3\n",
       "144    3\n",
       "145    3\n",
       "146    3\n",
       "147    3\n",
       "148    3\n",
       "149    3\n",
       "Name: 4, Length: 150, dtype: int64"
      ]
     },
     "execution_count": 20,
     "metadata": {},
     "output_type": "execute_result"
    }
   ],
   "source": [
    "type(X.iloc[:,0:4])\n",
    "X2 = np.array(X.iloc[:,0:4])\n",
    "type(X2)\n",
    "X[4]"
   ]
  },
  {
   "cell_type": "code",
   "execution_count": 7,
   "metadata": {},
   "outputs": [],
   "source": [
    "#数据集可视化1"
   ]
  },
  {
   "cell_type": "code",
   "execution_count": 8,
   "metadata": {},
   "outputs": [
    {
     "data": {
      "image/png": "[encoded data removed]",
      "text/plain": [
       "<Figure size 432x288 with 1 Axes>"
      ]
     },
     "metadata": {
      "needs_background": "light"
     },
     "output_type": "display_data"
    }
   ],
   "source": [
    "plt.scatter(X.iloc[:, 0], X.iloc[:, 1] ,c = \"red\", marker='o', label='see')\n",
    "plt.xlabel('petal length')\n",
    "plt.ylabel('petal width')\n",
    "plt.legend(loc=2)\n",
    "plt.show()"
   ]
  },
  {
   "cell_type": "code",
   "execution_count": 9,
   "metadata": {},
   "outputs": [],
   "source": [
    "#数据集归一化"
   ]
  },
  {
   "cell_type": "code",
   "execution_count": 10,
   "metadata": {},
   "outputs": [],
   "source": [
    "def minmax_Norm(dataSet):\n",
    "    minVals = dataSet.min(0) # 取每一列的最小值\n",
    "    maxVals = dataSet.max(0) # 取每一列的最大值\n",
    "    ranges = maxVals - minVals\n",
    "    normDataSet = np.zeros(np.shape(dataSet))\n",
    "    m = dataSet.shape[0]\n",
    "    normDataSet = dataSet - np.tile(minVals, (m, 1))\n",
    "    normDataSet = normDataSet/np.tile(ranges, (m, 1))   \n",
    "    return normDataSet"
   ]
  },
  {
   "cell_type": "code",
   "execution_count": 11,
   "metadata": {},
   "outputs": [],
   "source": [
    "X = minmax_Norm(X)"
   ]
  },
  {
   "cell_type": "code",
   "execution_count": 12,
   "metadata": {},
   "outputs": [],
   "source": [
    "#数据集可视化2"
   ]
  },
  {
   "cell_type": "code",
   "execution_count": 13,
   "metadata": {},
   "outputs": [
    {
     "data": {
      "image/png": "[encoded data removed]",
      "text/plain": [
       "<Figure size 432x288 with 1 Axes>"
      ]
     },
     "metadata": {
      "needs_background": "light"
     },
     "output_type": "display_data"
    }
   ],
   "source": [
    "ax = plt.subplot(111, projection='3d')\n",
    "x = np.array(X.iloc[:,0])\n",
    "y = np.array(X.iloc[:,1])\n",
    "z = np.array(X.iloc[:2])\n",
    "ax.scatter(np.array(X.iloc[:,0]) , np.array(X.iloc[:,1]) , np.array(X.iloc[:,2]) , c = X_label)\n",
    "ax.set_xlabel('petal length')\n",
    "ax.set_ylabel('petal width')\n",
    "ax.set_zlabel('Sepal Length')\n",
    "\n",
    "plt.show()"
   ]
  },
  {
   "cell_type": "code",
   "execution_count": 14,
   "metadata": {},
   "outputs": [],
   "source": [
    "#尝试以数据集前两个属性进行初次聚类并观察效果"
   ]
  },
  {
   "cell_type": "code",
   "execution_count": 15,
   "metadata": {},
   "outputs": [],
   "source": [
    "estimator = KMeans(n_clusters=3)#构造聚类器\n",
    "estimator.fit(X)#聚类\n",
    "label_pred = estimator.labels_"
   ]
  },
  {
   "cell_type": "code",
   "execution_count": 16,
   "metadata": {},
   "outputs": [
    {
     "data": {
      "image/png": "[encoded data removed]",
      "text/plain": [
       "<Figure size 432x288 with 1 Axes>"
      ]
     },
     "metadata": {
      "needs_background": "light"
     },
     "output_type": "display_data"
    }
   ],
   "source": [
    "x0 = X[label_pred == 0]\n",
    "x1 = X[label_pred == 1]\n",
    "x2 = X[label_pred == 2]\n",
    "plt.scatter(x0.iloc[:, 0], x0.iloc[:, 1], c = \"red\", marker='o', label='label0')\n",
    "plt.scatter(x1.iloc[:, 0], x1.iloc[:, 1], c = \"green\", marker='*', label='label1')\n",
    "plt.scatter(x2.iloc[:, 0], x2.iloc[:, 1], c = \"blue\", marker='+', label='label2')\n",
    "plt.xlabel('petal length')\n",
    "plt.ylabel('petal width')\n",
    "plt.legend(loc=2)\n",
    "plt.show()"
   ]
  },
  {
   "cell_type": "code",
   "execution_count": 17,
   "metadata": {},
   "outputs": [],
   "source": [
    "# 上面的聚类效果其实并不理想，尝试以数据集的最后两个特征来看下效果：\n",
    "X1 = iris.data[:,2:]"
   ]
  },
  {
   "cell_type": "code",
   "execution_count": 18,
   "metadata": {},
   "outputs": [],
   "source": [
    "estimator = KMeans(n_clusters=3)#构造聚类器\n",
    "estimator.fit(X1)#聚类\n",
    "label_pred = estimator.labels_"
   ]
  },
  {
   "cell_type": "code",
   "execution_count": 22,
   "metadata": {},
   "outputs": [
    {
     "data": {
      "image/png": "[encoded data removed]",
      "text/plain": [
       "<Figure size 432x288 with 1 Axes>"
      ]
     },
     "metadata": {
      "needs_background": "light"
     },
     "output_type": "display_data"
    }
   ],
   "source": [
    "x0 = X1[label_pred == 0]\n",
    "x1 = X1[label_pred == 1]\n",
    "x2 = X1[label_pred == 2]\n",
    "plt.scatter(x0[:, 0], x0[:, 1], c = \"red\", marker='o', label='label0')\n",
    "plt.scatter(x1[:, 0], x1[:, 1], c = \"green\", marker='*', label='label1')\n",
    "plt.scatter(x2[:, 0], x2[:, 1], c = \"blue\", marker='+', label='label2')\n",
    "plt.xlabel('petal length')\n",
    "plt.ylabel('petal width')\n",
    "plt.legend(loc=2)\n",
    "plt.show()"
   ]
  },
  {
   "cell_type": "code",
   "execution_count": null,
   "metadata": {},
   "outputs": [],
   "source": [
    "#尝试以数据集的三个特征进行聚类观察效果"
   ]
  },
  {
   "cell_type": "code",
   "execution_count": 108,
   "metadata": {},
   "outputs": [],
   "source": [
    "X2 = iris.data[:,:2]"
   ]
  },
  {
   "cell_type": "code",
   "execution_count": 109,
   "metadata": {},
   "outputs": [],
   "source": [
    "estimator = KMeans(n_clusters=3)#构造聚类器\n",
    "estimator.fit(X2)#聚类\n",
    "label_pred = estimator.labels_"
   ]
  },
  {
   "cell_type": "code",
   "execution_count": null,
   "metadata": {},
   "outputs": [],
   "source": [
    "ax = plt.subplot(111, projection='3d')\n",
    "x = np.array(X.iloc[:,0])\n",
    "y = np.array(X.iloc[:,1])\n",
    "z = np.array(X.iloc[:2])\n",
    "ax.scatter(np.array(X.iloc[:,0]) , np.array(X.iloc[:,1]) , np.array(X.iloc[:,2]) , c = X_label)\n",
    "ax.set_xlabel('petal length')\n",
    "ax.set_ylabel('petal width')\n",
    "ax.set_zlabel('Sepal Length')\n",
    "\n",
    "plt.show()"
   ]
  },
  {
   "cell_type": "code",
   "execution_count": null,
   "metadata": {},
   "outputs": [],
   "source": [
    "ax2 = plt.subplot(111, projection='3d')\n",
    "x0 = X2[label_pred == 0]\n",
    "x1 = X2[label_pred == 1]\n",
    "x2 = X2[label_pred == 2]\n",
    "x3 = X3[label_pred == 3]\n",
    "ax2.scatter(x0[:, 0], x0[:, 1], x0[:,2],c = \"red\", marker='o', label='label0')\n",
    "ax2.scatter(x1[:, 0], x1[:, 1], x2[:,2]c = \"green\", marker='*', label='label1')\n",
    "ax2.scatter(x2[:, 0], x2[:, 1], x3[:,2]c = \"blue\", marker='+', label='label2')\n",
    "plt.xlabel('petal length')\n",
    "plt.ylabel('petal width')\n",
    "plt.legend(loc=2)\n",
    "plt.show()"
   ]
  },
  {
   "cell_type": "code",
   "execution_count": 22,
   "metadata": {},
   "outputs": [],
   "source": [
    "#K-means聚类基本方法参考博客\n",
    "# https://blog.csdn.net/zijinmu69/article/details/82708130"
   ]
  }
 ],
 "metadata": {
  "kernelspec": {
   "display_name": "Python 3",
   "language": "python",
   "name": "python3"
  },
  "language_info": {
   "codemirror_mode": {
    "name": "ipython",
    "version": 3
   },
   "file_extension": ".py",
   "mimetype": "text/x-python",
   "name": "python",
   "nbconvert_exporter": "python",
   "pygments_lexer": "ipython3",
   "version": "3.7.3"
  }
 },
 "nbformat": 4,
 "nbformat_minor": 2
}
