{
 "cells": [
  {
   "cell_type": "code",
   "execution_count": 1,
   "metadata": {},
   "outputs": [],
   "source": [
    "import numpy as np\n",
    "import pandas as pd\n",
    "from sklearn.cluster import KMeans\n",
    "from sklearn import metrics "
   ]
  },
  {
   "cell_type": "code",
   "execution_count": 2,
   "metadata": {},
   "outputs": [],
   "source": [
    "#导入数据"
   ]
  },
  {
   "cell_type": "code",
   "execution_count": 3,
   "metadata": {},
   "outputs": [],
   "source": [
    "df1 =pd.read_csv('C:\\\\Users\\\\Tianh\\\\Desktop\\\\DMLab\\\\data\\\\wineequality\\\\winequality-white.csv',delimiter=';')"
   ]
  },
  {
   "cell_type": "code",
   "execution_count": 4,
   "metadata": {},
   "outputs": [
    {
     "data": {
      "text/html": [
       "<div>\n",
       "<style scoped>\n",
       "    .dataframe tbody tr th:only-of-type {\n",
       "        vertical-align: middle;\n",
       "    }\n",
       "\n",
       "    .dataframe tbody tr th {\n",
       "        vertical-align: top;\n",
       "    }\n",
       "\n",
       "    .dataframe thead th {\n",
       "        text-align: right;\n",
       "    }\n",
       "</style>\n",
       "<table border=\"1\" class=\"dataframe\">\n",
       "  <thead>\n",
       "    <tr style=\"text-align: right;\">\n",
       "      <th></th>\n",
       "      <th>fixed acidity</th>\n",
       "      <th>volatile acidity</th>\n",
       "      <th>citric acid</th>\n",
       "      <th>residual sugar</th>\n",
       "      <th>chlorides</th>\n",
       "      <th>free sulfur dioxide</th>\n",
       "      <th>total sulfur dioxide</th>\n",
       "      <th>density</th>\n",
       "      <th>pH</th>\n",
       "      <th>sulphates</th>\n",
       "      <th>alcohol</th>\n",
       "      <th>quality</th>\n",
       "    </tr>\n",
       "  </thead>\n",
       "  <tbody>\n",
       "    <tr>\n",
       "      <th>0</th>\n",
       "      <td>7.0</td>\n",
       "      <td>0.27</td>\n",
       "      <td>0.36</td>\n",
       "      <td>20.7</td>\n",
       "      <td>0.045</td>\n",
       "      <td>45.0</td>\n",
       "      <td>170.0</td>\n",
       "      <td>1.0010</td>\n",
       "      <td>3.00</td>\n",
       "      <td>0.45</td>\n",
       "      <td>8.8</td>\n",
       "      <td>6</td>\n",
       "    </tr>\n",
       "    <tr>\n",
       "      <th>1</th>\n",
       "      <td>6.3</td>\n",
       "      <td>0.30</td>\n",
       "      <td>0.34</td>\n",
       "      <td>1.6</td>\n",
       "      <td>0.049</td>\n",
       "      <td>14.0</td>\n",
       "      <td>132.0</td>\n",
       "      <td>0.9940</td>\n",
       "      <td>3.30</td>\n",
       "      <td>0.49</td>\n",
       "      <td>9.5</td>\n",
       "      <td>6</td>\n",
       "    </tr>\n",
       "    <tr>\n",
       "      <th>2</th>\n",
       "      <td>8.1</td>\n",
       "      <td>0.28</td>\n",
       "      <td>0.40</td>\n",
       "      <td>6.9</td>\n",
       "      <td>0.050</td>\n",
       "      <td>30.0</td>\n",
       "      <td>97.0</td>\n",
       "      <td>0.9951</td>\n",
       "      <td>3.26</td>\n",
       "      <td>0.44</td>\n",
       "      <td>10.1</td>\n",
       "      <td>6</td>\n",
       "    </tr>\n",
       "    <tr>\n",
       "      <th>3</th>\n",
       "      <td>7.2</td>\n",
       "      <td>0.23</td>\n",
       "      <td>0.32</td>\n",
       "      <td>8.5</td>\n",
       "      <td>0.058</td>\n",
       "      <td>47.0</td>\n",
       "      <td>186.0</td>\n",
       "      <td>0.9956</td>\n",
       "      <td>3.19</td>\n",
       "      <td>0.40</td>\n",
       "      <td>9.9</td>\n",
       "      <td>6</td>\n",
       "    </tr>\n",
       "    <tr>\n",
       "      <th>4</th>\n",
       "      <td>7.2</td>\n",
       "      <td>0.23</td>\n",
       "      <td>0.32</td>\n",
       "      <td>8.5</td>\n",
       "      <td>0.058</td>\n",
       "      <td>47.0</td>\n",
       "      <td>186.0</td>\n",
       "      <td>0.9956</td>\n",
       "      <td>3.19</td>\n",
       "      <td>0.40</td>\n",
       "      <td>9.9</td>\n",
       "      <td>6</td>\n",
       "    </tr>\n",
       "  </tbody>\n",
       "</table>\n",
       "</div>"
      ],
      "text/plain": [
       "   fixed acidity  volatile acidity  citric acid  residual sugar  chlorides  \\\n",
       "0            7.0              0.27         0.36            20.7      0.045   \n",
       "1            6.3              0.30         0.34             1.6      0.049   \n",
       "2            8.1              0.28         0.40             6.9      0.050   \n",
       "3            7.2              0.23         0.32             8.5      0.058   \n",
       "4            7.2              0.23         0.32             8.5      0.058   \n",
       "\n",
       "   free sulfur dioxide  total sulfur dioxide  density    pH  sulphates  \\\n",
       "0                 45.0                 170.0   1.0010  3.00       0.45   \n",
       "1                 14.0                 132.0   0.9940  3.30       0.49   \n",
       "2                 30.0                  97.0   0.9951  3.26       0.44   \n",
       "3                 47.0                 186.0   0.9956  3.19       0.40   \n",
       "4                 47.0                 186.0   0.9956  3.19       0.40   \n",
       "\n",
       "   alcohol  quality  \n",
       "0      8.8        6  \n",
       "1      9.5        6  \n",
       "2     10.1        6  \n",
       "3      9.9        6  \n",
       "4      9.9        6  "
      ]
     },
     "execution_count": 4,
     "metadata": {},
     "output_type": "execute_result"
    }
   ],
   "source": [
    "df1.head()"
   ]
  },
  {
   "cell_type": "code",
   "execution_count": 5,
   "metadata": {},
   "outputs": [
    {
     "data": {
      "text/plain": [
       "pandas.core.frame.DataFrame"
      ]
     },
     "execution_count": 5,
     "metadata": {},
     "output_type": "execute_result"
    }
   ],
   "source": [
    "type(df1)"
   ]
  },
  {
   "cell_type": "code",
   "execution_count": 8,
   "metadata": {
    "scrolled": true
   },
   "outputs": [],
   "source": [
    "true_label = df1['quality']\n",
    "true_label = np.array(true_label)\n",
    "fea = df1.drop('quality',axis=1)\n",
    "fea = np.array(fea)"
   ]
  },
  {
   "cell_type": "code",
   "execution_count": 9,
   "metadata": {},
   "outputs": [
    {
     "data": {
      "text/plain": [
       "array([0.000e+00, 9.000e-03, 1.000e-02, ..., 3.440e+02, 3.665e+02,\n",
       "       4.400e+02])"
      ]
     },
     "execution_count": 9,
     "metadata": {},
     "output_type": "execute_result"
    }
   ],
   "source": [
    "res = np.unique(fea)\n",
    "res"
   ]
  },
  {
   "cell_type": "code",
   "execution_count": 10,
   "metadata": {},
   "outputs": [
    {
     "data": {
      "text/plain": [
       "array([[ 7.  ,  0.27,  0.36, ...,  3.  ,  0.45,  8.8 ],\n",
       "       [ 6.3 ,  0.3 ,  0.34, ...,  3.3 ,  0.49,  9.5 ],\n",
       "       [ 8.1 ,  0.28,  0.4 , ...,  3.26,  0.44, 10.1 ],\n",
       "       ...,\n",
       "       [ 6.5 ,  0.24,  0.19, ...,  2.99,  0.46,  9.4 ],\n",
       "       [ 5.5 ,  0.29,  0.3 , ...,  3.34,  0.38, 12.8 ],\n",
       "       [ 6.  ,  0.21,  0.38, ...,  3.26,  0.32, 11.8 ]])"
      ]
     },
     "execution_count": 10,
     "metadata": {},
     "output_type": "execute_result"
    }
   ],
   "source": [
    "fea"
   ]
  },
  {
   "cell_type": "code",
   "execution_count": 11,
   "metadata": {},
   "outputs": [],
   "source": [
    "#对数据进行归一化"
   ]
  },
  {
   "cell_type": "code",
   "execution_count": 12,
   "metadata": {},
   "outputs": [],
   "source": [
    "#最大最小值归一化\n",
    "# 参考博客：https://blog.csdn.net/zlzl8885/article/details/78094366\n",
    "def minmax_Norm(dataSet):\n",
    "    minVals = dataSet.min(0) # 取每一列的最小值\n",
    "    maxVals = dataSet.max(0) # 取每一列的最大值\n",
    "    ranges = maxVals - minVals\n",
    "    normDataSet = np.zeros(np.shape(dataSet))\n",
    "    m = dataSet.shape[0]\n",
    "    normDataSet = dataSet - np.tile(minVals, (m, 1))\n",
    "    normDataSet = normDataSet/np.tile(ranges, (m, 1))   \n",
    "    return normDataSet\n",
    "\n",
    "# Z-score归一化\n",
    "# 参考博客：https://blog.csdn.net/sinat_36458870/article/details/79498302#2Zscore_22\n",
    "def ZScore_Norm(dataSet):  \n",
    "    mu = dataSet.average()\n",
    "    sigma = dataSet.std()\n",
    "    x = (x - mu) / sigma\n",
    "    return datsSet  \n",
    "\n",
    "# Sigmoid归一化\n",
    "# Sigmoid函数是一个具有S形曲线的函数，\n",
    "# 是良好的阈值函数，在(0, 0.5)处中心对称，\n",
    "# 在(0, 0.5)附近有比较大的斜率而当数据趋向于正无穷和负无穷的时候，\n",
    "# 映射出来的值就会无限趋向于1和0\n",
    "def sigmoid_Norm(dataSet,useStatus):  \n",
    "    if useStatus:  \n",
    "        return 1.0 / (1 + np.exp(-float(dataSet)))\n",
    "    else:  \n",
    "        return float(dataSet)\n",
    "# useStatus管理是否使用sigmoid的状态，方便调试使用"
   ]
  },
  {
   "cell_type": "code",
   "execution_count": 13,
   "metadata": {},
   "outputs": [
    {
     "data": {
      "text/plain": [
       "array([[0.30769231, 0.18627451, 0.21686747, ..., 0.25454545, 0.26744186,\n",
       "        0.12903226],\n",
       "       [0.24038462, 0.21568627, 0.20481928, ..., 0.52727273, 0.31395349,\n",
       "        0.24193548],\n",
       "       [0.41346154, 0.19607843, 0.24096386, ..., 0.49090909, 0.25581395,\n",
       "        0.33870968],\n",
       "       ...,\n",
       "       [0.25961538, 0.15686275, 0.11445783, ..., 0.24545455, 0.27906977,\n",
       "        0.22580645],\n",
       "       [0.16346154, 0.20588235, 0.18072289, ..., 0.56363636, 0.18604651,\n",
       "        0.77419355],\n",
       "       [0.21153846, 0.12745098, 0.22891566, ..., 0.49090909, 0.11627907,\n",
       "        0.61290323]])"
      ]
     },
     "execution_count": 13,
     "metadata": {},
     "output_type": "execute_result"
    }
   ],
   "source": [
    "norm_fea = minmax_Norm(fea)\n",
    "norm_fea"
   ]
  },
  {
   "cell_type": "code",
   "execution_count": 14,
   "metadata": {},
   "outputs": [],
   "source": [
    "#k-means 聚类"
   ]
  },
  {
   "cell_type": "code",
   "execution_count": 15,
   "metadata": {},
   "outputs": [
    {
     "data": {
      "text/plain": [
       "array([[6.94590793e+00, 2.88228900e-01, 3.50000000e-01, 8.95716113e+00,\n",
       "        5.17979540e-02, 4.82563939e+01, 1.84991049e+02, 9.96022231e-01,\n",
       "        3.18732737e+00, 5.13235294e-01, 9.79341432e+00],\n",
       "       [6.81714406e+00, 2.76701769e-01, 3.26705981e-01, 5.64987363e+00,\n",
       "        4.38534120e-02, 3.05842460e+01, 1.26997894e+02, 9.93461276e-01,\n",
       "        3.19174389e+00, 4.84717776e-01, 1.07318169e+01],\n",
       "       [7.02258065e+00, 3.07111437e-01, 3.60058651e-01, 1.02124633e+01,\n",
       "        5.18651026e-02, 5.57609971e+01, 2.24640762e+02, 9.96910235e-01,\n",
       "        3.17284457e+00, 5.20351906e-01, 9.51906158e+00],\n",
       "       [6.89093432e+00, 2.74384829e-01, 3.44819611e-01, 7.52317299e+00,\n",
       "        4.85596670e-02, 4.13469010e+01, 1.54589732e+02, 9.94892562e-01,\n",
       "        3.19296022e+00, 4.88177613e-01, 1.01981314e+01],\n",
       "       [6.83371824e+00, 2.83106236e-01, 3.12124711e-01, 3.19122402e+00,\n",
       "        3.90508083e-02, 1.56905312e+01, 6.91270208e+01, 9.91767564e-01,\n",
       "        3.17002309e+00, 4.68845266e-01, 1.12215550e+01],\n",
       "       [6.74888268e+00, 2.65423650e-01, 3.20940410e-01, 4.28067970e+00,\n",
       "        4.14757914e-02, 2.64380819e+01, 1.01149907e+02, 9.92325480e-01,\n",
       "        3.19263501e+00, 4.78947858e-01, 1.11477188e+01]])"
      ]
     },
     "execution_count": 15,
     "metadata": {},
     "output_type": "execute_result"
    }
   ],
   "source": [
    "cluster_num = 6\n",
    "kmeans = KMeans(n_clusters=cluster_num, random_state=0).fit(fea)\n",
    "predict_label  =kmeans.labels_\n",
    "kmeans.cluster_centers_"
   ]
  },
  {
   "cell_type": "code",
   "execution_count": 16,
   "metadata": {},
   "outputs": [],
   "source": [
    "#聚类评价"
   ]
  },
  {
   "cell_type": "code",
   "execution_count": 18,
   "metadata": {},
   "outputs": [
    {
     "name": "stderr",
     "output_type": "stream",
     "text": [
      "D:\\Users\\Tianh\\Anaconda3\\lib\\site-packages\\sklearn\\metrics\\cluster\\supervised.py:746: FutureWarning: The behavior of AMI will change in version 0.22. To match the behavior of 'v_measure_score', AMI will use average_method='arithmetic' by default.\n",
      "  FutureWarning)\n"
     ]
    },
    {
     "name": "stdout",
     "output_type": "stream",
     "text": [
      "0.02322766277086908\n",
      "0.033064399703492175\n",
      "0.025061306985284287\n",
      "0.02851189666183834\n",
      "0.26024411228162164\n",
      "0.3130308350017599\n",
      "5607.269362493384\n"
     ]
    },
    {
     "name": "stderr",
     "output_type": "stream",
     "text": [
      "D:\\Users\\Tianh\\Anaconda3\\lib\\site-packages\\sklearn\\utils\\deprecation.py:85: DeprecationWarning: Function calinski_harabaz_score is deprecated; Function 'calinski_harabaz_score' has been renamed to 'calinski_harabasz_score' and will be removed in version 0.23.\n",
      "  warnings.warn(msg, category=DeprecationWarning)\n"
     ]
    }
   ],
   "source": [
    "#Mutual Information based scores 互信息\n",
    "print(metrics.adjusted_mutual_info_score(true_label,predict_label))\n",
    "\n",
    "# Homogeneity 同质性 每个群集只包含单个类的成员\n",
    "print(metrics.homogeneity_score(true_label, predict_label))\n",
    "\n",
    "# completeness 完整性 类的所有成员都分配给同一个群集\n",
    "print(metrics.completeness_score(true_label, predict_label))\n",
    "\n",
    "# 两者的调和平均V-measure：\n",
    "print(metrics.v_measure_score(true_label, predict_label))\n",
    "\n",
    "#  Fowlkes-Mallows scores\n",
    "# The Fowlkes-Mallows score FMI is defined as the geometric mean \n",
    "# of the pairwise precision and recall:\n",
    "print(metrics.fowlkes_mallows_score(true_label,predict_label))\n",
    "\n",
    "# Silhouette Coefficient 轮廓系数\n",
    "print(metrics.silhouette_score(fea, predict_label, metric='euclidean'))\n",
    "\n",
    "# Calinski-Harabaz Index 分数值ss越大则聚类效果越好\n",
    "# 类别内部数据的协方差越小越好，\n",
    "# 类别之间的协方差越大越好，这样的Calinski-Harabasz分数会高。\n",
    "print(metrics.calinski_harabaz_score(fea, predict_label))"
   ]
  },
  {
   "cell_type": "code",
   "execution_count": null,
   "metadata": {},
   "outputs": [],
   "source": []
  },
  {
   "cell_type": "code",
   "execution_count": null,
   "metadata": {},
   "outputs": [],
   "source": []
  }
 ],
 "metadata": {
  "kernelspec": {
   "display_name": "Python 3",
   "language": "python",
   "name": "python3"
  },
  "language_info": {
   "codemirror_mode": {
    "name": "ipython",
    "version": 3
   },
   "file_extension": ".py",
   "mimetype": "text/x-python",
   "name": "python",
   "nbconvert_exporter": "python",
   "pygments_lexer": "ipython3",
   "version": "3.7.3"
  }
 },
 "nbformat": 4,
 "nbformat_minor": 2
}
