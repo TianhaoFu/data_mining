{
 "cells": [
  {
   "cell_type": "code",
   "execution_count": 2,
   "metadata": {},
   "outputs": [],
   "source": [
    "# 本文所用评价指标参考博客：\n",
    "# https://blog.csdn.net/sinat_26917383/article/details/70577710"
   ]
  },
  {
   "cell_type": "code",
   "execution_count": 1,
   "metadata": {},
   "outputs": [],
   "source": [
    "import scipy.io\n",
    "import numpy as np\n",
    "import os\n",
    "import matplotlib.pyplot as plt\n",
    "from sklearn.cluster import KMeans"
   ]
  },
  {
   "cell_type": "code",
   "execution_count": 2,
   "metadata": {},
   "outputs": [],
   "source": [
    "# ORL人脸数据库由该实验室从1992年4月到1994年4月期间拍摄的一系列人脸图像组成，\n",
    "# 共有40个不同年龄、不同性别和不同种族的对象。\n",
    "# 每个人10幅图像共计400幅灰度图像组成，图像尺寸是92×112，图像背景为黑色"
   ]
  },
  {
   "cell_type": "code",
   "execution_count": 3,
   "metadata": {},
   "outputs": [
    {
     "data": {
      "text/plain": [
       "'C:\\\\Users\\\\Tianh\\\\Desktop\\\\fth'"
      ]
     },
     "execution_count": 3,
     "metadata": {},
     "output_type": "execute_result"
    }
   ],
   "source": [
    "os.getcwd()"
   ]
  },
  {
   "cell_type": "code",
   "execution_count": 4,
   "metadata": {},
   "outputs": [
    {
     "name": "stdout",
     "output_type": "stream",
     "text": [
      " 驱动器 C 中的卷是 OS\n",
      " 卷的序列号是 7A99-DFFA\n",
      "\n",
      " C:\\Users\\Tianh\\Desktop\\fth 的目录\n",
      "\n",
      "2019/10/25  17:39    <DIR>          .\n",
      "2019/10/25  17:39    <DIR>          ..\n",
      "2019/10/20  18:36    <DIR>          .ipynb_checkpoints\n",
      "2019/10/25  17:39            23,106 data_experiment_ORL_Data.ipynb\n",
      "2019/10/20  19:03            15,460 data_experiment_WINE_white_Data.ipynb\n",
      "2019/10/19  09:47            54,806 data_experiment_WINR_red_Data.ipynb\n",
      "2019/10/20  19:07            18,030 data_experiment_Yale_Data.ipynb\n",
      "2019/10/18  17:50            13,071 Untitled.ipynb\n",
      "2019/10/18  18:23            49,825 Untitled1.ipynb\n",
      "2019/10/19  09:49               586 Untitled2.ipynb\n",
      "2019/10/20  18:48             2,833 Untitled3.ipynb\n",
      "               8 个文件        177,717 字节\n",
      "               3 个目录 245,594,181,632 可用字节\n"
     ]
    }
   ],
   "source": [
    "ls"
   ]
  },
  {
   "cell_type": "code",
   "execution_count": 5,
   "metadata": {},
   "outputs": [],
   "source": [
    "#导入数据"
   ]
  },
  {
   "cell_type": "code",
   "execution_count": 6,
   "metadata": {},
   "outputs": [],
   "source": [
    "# data = scipy.io.loadmat('C:\\\\Users\\\\Lab\\\\Desktop\\\\DMLab\\\\data\\\\face\\\\ORL_32x32.mat')\n",
    "data = scipy.io.loadmat('C:\\\\Users\\\\Tianh\\\\Desktop\\\\DMLab\\\\data\\\\face\\\\ORL_32x32.mat')"
   ]
  },
  {
   "cell_type": "code",
   "execution_count": 7,
   "metadata": {},
   "outputs": [
    {
     "data": {
      "text/plain": [
       "dict_keys(['__header__', '__version__', '__globals__', 'gnd', 'fea'])"
      ]
     },
     "execution_count": 7,
     "metadata": {},
     "output_type": "execute_result"
    }
   ],
   "source": [
    "type(data)\n",
    "data\n",
    "data.keys()"
   ]
  },
  {
   "cell_type": "code",
   "execution_count": 8,
   "metadata": {},
   "outputs": [],
   "source": [
    "#对数据进行预处理"
   ]
  },
  {
   "cell_type": "code",
   "execution_count": 9,
   "metadata": {},
   "outputs": [],
   "source": [
    "fea = data['fea']"
   ]
  },
  {
   "cell_type": "code",
   "execution_count": 10,
   "metadata": {},
   "outputs": [
    {
     "data": {
      "text/plain": [
       "array([[ 75,  83,  81, ...,  35,  40,  39],\n",
       "       [110, 120, 130, ...,  34,  40,  33],\n",
       "       [ 77,  65,  49, ...,  38,  36,  35],\n",
       "       ...,\n",
       "       [121, 113, 118, ...,  42,  42,  38],\n",
       "       [ 52,  51,  61, ..., 111, 132, 141],\n",
       "       [125, 125, 120, ...,  82,  88,  87]], dtype=uint8)"
      ]
     },
     "execution_count": 10,
     "metadata": {},
     "output_type": "execute_result"
    }
   ],
   "source": [
    "fea"
   ]
  },
  {
   "cell_type": "code",
   "execution_count": 11,
   "metadata": {},
   "outputs": [
    {
     "name": "stdout",
     "output_type": "stream",
     "text": [
      "(400, 1024)\n",
      "<class 'numpy.ndarray'>\n",
      "uint8\n",
      "float64\n",
      "[[ 75.  83.  81. ...  35.  40.  39.]\n",
      " [110. 120. 130. ...  34.  40.  33.]\n",
      " [ 77.  65.  49. ...  38.  36.  35.]\n",
      " ...\n",
      " [121. 113. 118. ...  42.  42.  38.]\n",
      " [ 52.  51.  61. ... 111. 132. 141.]\n",
      " [125. 125. 120. ...  82.  88.  87.]]\n"
     ]
    }
   ],
   "source": [
    "print(fea.shape)\n",
    "print(type(fea))\n",
    "print(fea.dtype)\n",
    "fea = data['fea'].astype(np.float64)\n",
    "print(fea.dtype)\n",
    "print(fea)"
   ]
  },
  {
   "cell_type": "code",
   "execution_count": 12,
   "metadata": {},
   "outputs": [
    {
     "name": "stdout",
     "output_type": "stream",
     "text": [
      "<class 'numpy.ndarray'>\n",
      "(400, 1)\n",
      "<class 'numpy.ndarray'>\n",
      "(400,)\n",
      "[ 1  1  1  1  1  1  1  1  1  1  2  2  2  2  2  2  2  2  2  2  3  3  3  3\n",
      "  3  3  3  3  3  3  4  4  4  4  4  4  4  4  4  4  5  5  5  5  5  5  5  5\n",
      "  5  5  6  6  6  6  6  6  6  6  6  6  7  7  7  7  7  7  7  7  7  7  8  8\n",
      "  8  8  8  8  8  8  8  8  9  9  9  9  9  9  9  9  9  9 10 10 10 10 10 10\n",
      " 10 10 10 10 11 11 11 11 11 11 11 11 11 11 12 12 12 12 12 12 12 12 12 12\n",
      " 13 13 13 13 13 13 13 13 13 13 14 14 14 14 14 14 14 14 14 14 15 15 15 15\n",
      " 15 15 15 15 15 15 16 16 16 16 16 16 16 16 16 16 17 17 17 17 17 17 17 17\n",
      " 17 17 18 18 18 18 18 18 18 18 18 18 19 19 19 19 19 19 19 19 19 19 20 20\n",
      " 20 20 20 20 20 20 20 20 21 21 21 21 21 21 21 21 21 21 22 22 22 22 22 22\n",
      " 22 22 22 22 23 23 23 23 23 23 23 23 23 23 24 24 24 24 24 24 24 24 24 24\n",
      " 25 25 25 25 25 25 25 25 25 25 26 26 26 26 26 26 26 26 26 26 27 27 27 27\n",
      " 27 27 27 27 27 27 28 28 28 28 28 28 28 28 28 28 29 29 29 29 29 29 29 29\n",
      " 29 29 30 30 30 30 30 30 30 30 30 30 31 31 31 31 31 31 31 31 31 31 32 32\n",
      " 32 32 32 32 32 32 32 32 33 33 33 33 33 33 33 33 33 33 34 34 34 34 34 34\n",
      " 34 34 34 34 35 35 35 35 35 35 35 35 35 35 36 36 36 36 36 36 36 36 36 36\n",
      " 37 37 37 37 37 37 37 37 37 37 38 38 38 38 38 38 38 38 38 38 39 39 39 39\n",
      " 39 39 39 39 39 39 40 40 40 40 40 40 40 40 40 40]\n"
     ]
    }
   ],
   "source": [
    "# print(data['gnd'])\n",
    "print(type(data['gnd']))\n",
    "print(data['gnd'].shape)\n",
    "true_label= data['gnd'].ravel()  #降维 返回视图\n",
    "# print(gnd)\n",
    "print(type(true_label))\n",
    "print(true_label.shape)\n",
    "print(true_label)"
   ]
  },
  {
   "cell_type": "code",
   "execution_count": 13,
   "metadata": {},
   "outputs": [],
   "source": [
    "#对数据进行归一化"
   ]
  },
  {
   "cell_type": "code",
   "execution_count": 14,
   "metadata": {},
   "outputs": [],
   "source": [
    "#最大最小值归一化\n",
    "# 参考博客：https://blog.csdn.net/zlzl8885/article/details/78094366\n",
    "def minmax_Norm(dataSet):\n",
    "    minVals = dataSet.min(0) # 取每一列的最小值\n",
    "    maxVals = dataSet.max(0) # 取每一列的最大值\n",
    "    ranges = maxVals - minVals\n",
    "    normDataSet = np.zeros(np.shape(dataSet))\n",
    "    m = dataSet.shape[0]\n",
    "    normDataSet = dataSet - np.tile(minVals, (m, 1))\n",
    "    normDataSet = normDataSet/np.tile(ranges, (m, 1))   \n",
    "    return normDataSet"
   ]
  },
  {
   "cell_type": "code",
   "execution_count": 15,
   "metadata": {},
   "outputs": [],
   "source": [
    "# Z-score归一化\n",
    "# 参考博客：https://blog.csdn.net/sinat_36458870/article/details/79498302#2Zscore_22\n",
    "def zscore_Norm(dataSet):  \n",
    "    mu = dataSet.average()\n",
    "    sigma = dataSet.std()\n",
    "    x = (x - mu) / sigma\n",
    "    return datsSet  "
   ]
  },
  {
   "cell_type": "code",
   "execution_count": 16,
   "metadata": {},
   "outputs": [],
   "source": [
    "# Sigmoid归一化\n",
    "# Sigmoid函数是一个具有S形曲线的函数，\n",
    "# 是良好的阈值函数，在(0, 0.5)处中心对称，\n",
    "# 在(0, 0.5)附近有比较大的斜率而当数据趋向于正无穷和负无穷的时候，\n",
    "# 映射出来的值就会无限趋向于1和0\n",
    "def sigmoid_Norm(dataSet,useStatus):  \n",
    "    if useStatus:  \n",
    "        return 1.0 / (1 + np.exp(-float(dataSet)))\n",
    "    else:  \n",
    "        return float(dataSet)\n",
    "# useStatus管理是否使用sigmoid的状态，方便调试使用"
   ]
  },
  {
   "cell_type": "code",
   "execution_count": 17,
   "metadata": {},
   "outputs": [
    {
     "data": {
      "text/plain": [
       "array([[0.31034483, 0.33879781, 0.31868132, ..., 0.13366337, 0.140625  ,\n",
       "        0.12121212],\n",
       "       [0.51149425, 0.54098361, 0.58791209, ..., 0.12871287, 0.140625  ,\n",
       "        0.09090909],\n",
       "       [0.32183908, 0.24043716, 0.14285714, ..., 0.14851485, 0.11979167,\n",
       "        0.1010101 ],\n",
       "       ...,\n",
       "       [0.57471264, 0.50273224, 0.52197802, ..., 0.16831683, 0.15104167,\n",
       "        0.11616162],\n",
       "       [0.17816092, 0.16393443, 0.20879121, ..., 0.50990099, 0.61979167,\n",
       "        0.63636364],\n",
       "       [0.59770115, 0.56830601, 0.53296703, ..., 0.36633663, 0.390625  ,\n",
       "        0.36363636]])"
      ]
     },
     "execution_count": 17,
     "metadata": {},
     "output_type": "execute_result"
    }
   ],
   "source": [
    "norm_fea = minmax_Norm(fea)\n",
    "norm_fea"
   ]
  },
  {
   "cell_type": "code",
   "execution_count": 18,
   "metadata": {},
   "outputs": [],
   "source": [
    "#k-means 聚类"
   ]
  },
  {
   "cell_type": "code",
   "execution_count": 19,
   "metadata": {},
   "outputs": [],
   "source": [
    "cluster_num = 40"
   ]
  },
  {
   "cell_type": "code",
   "execution_count": 26,
   "metadata": {},
   "outputs": [],
   "source": [
    "kmeans = KMeans(n_clusters=cluster_num, random_state=0).fit(norm_fea)"
   ]
  },
  {
   "cell_type": "code",
   "execution_count": 27,
   "metadata": {},
   "outputs": [
    {
     "name": "stdout",
     "output_type": "stream",
     "text": [
      "[ 9 25  9  4 19 22  9 22  9 19 15 15 15 15 15 15 15 15 15 15 32 32 32 24\n",
      " 24  5  2 24 14 14 17 17 24 14 14 22 14 17 17 14  3  3  3  3  2  2  2  2\n",
      "  2  7 14 14 14 16 16 16 16 16 16 16  1  1 38  2  1 38  1  1 38 21 37 37\n",
      " 37 25 37 37 25 37 22 25  0  3  0  2  2  2  2  2  3  3 13 13 32 32 19 19\n",
      " 19 19 22 37 27 27 27 27 27 27 27 27 27 27 19  0  0  0  0 19  0 19 19 19\n",
      " 17 17  2  2 17 17 24 24 14 17 35 28 28 35 35 28 35 35 28 28 17 17 17 17\n",
      " 17 17 17 17 17 17 11  9  9 14 14 11  9 22  9  9 39 39 32 32 39  4  4 39\n",
      "  4  4 38 38 38 38 38 38 38 38 38 38 36 36 36  1  1 36  1  1  1 36 23 23\n",
      " 23 17 22 17 22 22 22 23 23 23 23 24  3  3 24 24 17 24 30 30 30 30 30  8\n",
      " 30 30 30 30 14 14 32  2 32  2  2 14  2  2 11 11 11 11 23 11 11 11 11 11\n",
      " 13 32 13 13 13 13 13  2 13 13  5  5 32 32 32  5 14 32  5 32 18 18 18 18\n",
      " 18 18 18 18 18 18 10 20 10 20 20 10 20 10 20 10 34 34 34 34 24 24 24 24\n",
      " 34 34  3 23  3 23 23  3 23 23  3  3 12 31 31 31 31 12 12 12 12 31  1 36\n",
      " 36  1 36  1 17  1  1  1 33 33 33 33 33 33 33 33 33 33  6  6  6  6  6  6\n",
      "  6  6  6  6 23 23 24 23 24 32 32 32 24 24 26 21 21 21 26 21 21 21 21 21\n",
      "  5 29  5 29 29 29  5 29  5  5  7  3  3 14  3  7  3  3  7  3  8  8  8  8\n",
      "  8  8  8  8  8  8  3  7  7  2  7  3 22  3 22  2]\n"
     ]
    }
   ],
   "source": [
    "predict_label  =kmeans.labels_\n",
    "print(predict_label)"
   ]
  },
  {
   "cell_type": "code",
   "execution_count": 22,
   "metadata": {},
   "outputs": [
    {
     "data": {
      "text/plain": [
       "array([[0.57799672, 0.56596409, 0.53532182, ..., 0.14002829, 0.12053571,\n",
       "        0.12265512],\n",
       "       [0.42672414, 0.50478142, 0.55700549, ..., 0.24659653, 0.23014323,\n",
       "        0.1875    ],\n",
       "       [0.35710554, 0.3219076 , 0.31843157, ..., 0.43271827, 0.41808712,\n",
       "        0.38957759],\n",
       "       ...,\n",
       "       [0.27422003, 0.33489461, 0.40423862, ..., 0.18528996, 0.19568452,\n",
       "        0.19408369],\n",
       "       [0.44076039, 0.39554435, 0.38123415, ..., 0.32368621, 0.3036859 ,\n",
       "        0.27894328],\n",
       "       [0.42241379, 0.39617486, 0.45054945, ..., 0.19059406, 0.17317708,\n",
       "        0.15025253]])"
      ]
     },
     "execution_count": 22,
     "metadata": {},
     "output_type": "execute_result"
    }
   ],
   "source": [
    "kmeans.cluster_centers_"
   ]
  },
  {
   "cell_type": "code",
   "execution_count": 1,
   "metadata": {},
   "outputs": [],
   "source": [
    "#K-Mediod 聚类"
   ]
  },
  {
   "cell_type": "code",
   "execution_count": 15,
   "metadata": {},
   "outputs": [],
   "source": [
    "def pearson_distance(vector1, vector2):\n",
    "    from scipy.spatial.distance import pdist\n",
    "    X = vstack([vector1, vector2])\n",
    "    d2 = pdist(X)\n",
    "    return d2"
   ]
  },
  {
   "cell_type": "code",
   "execution_count": 16,
   "metadata": {},
   "outputs": [],
   "source": [
    "distances_cache = {}"
   ]
  },
  {
   "cell_type": "code",
   "execution_count": 17,
   "metadata": {},
   "outputs": [],
   "source": [
    "def totalcost(blogwords, costf, medoids_idx):\n",
    "    size = len(blogwords)\n",
    "    total_cost = 0.0\n",
    "    medoids = {}\n",
    "    for idx in medoids_idx:\n",
    "        medoids[idx] = []\n",
    "    for i in range(size):\n",
    "        choice = None\n",
    "        min_cost = inf\n",
    "        for m in medoids:\n",
    "            tmp = distances_cache.get((m, i), None)\n",
    "            if tmp == None:\n",
    "                tmp = pearson_distance(blogwords[m], blogwords[i])\n",
    "                distances_cache[(m, i)] = tmp\n",
    "            if tmp < min_cost:\n",
    "                choice = m\n",
    "                min_cost = tmp\n",
    "        medoids[choice].append(i)\n",
    "        total_cost += min_cost\n",
    "    return total_cost, medoids"
   ]
  },
  {
   "cell_type": "code",
   "execution_count": 18,
   "metadata": {},
   "outputs": [],
   "source": [
    "def kmedoids(blogwords, k):\n",
    "    import random\n",
    "    size = len(blogwords)\n",
    "    medoids_idx = random.sample([i for i in range(size)], k)\n",
    "    pre_cost, medoids = totalcost(blogwords, pearson_distance, medoids_idx)\n",
    "#     print pre_cost\n",
    "    current_cost = inf  # maxmum of pearson_distances is 2.\n",
    "    best_choice = []\n",
    "    best_res = {}\n",
    "    iter_count = 0\n",
    "    while 1:\n",
    "        for m in medoids:\n",
    "            for item in medoids[m]:\n",
    "                if item != m:\n",
    "                    idx = medoids_idx.index(m)\n",
    "                    swap_temp = medoids_idx[idx]\n",
    "                    medoids_idx[idx] = item\n",
    "                    tmp, medoids_ = totalcost(blogwords, pearson_distance, medoids_idx)\n",
    "                    # print tmp,'-------->',medoids_.keys()\n",
    "                    if tmp < current_cost:\n",
    "                        best_choice = list(medoids_idx)\n",
    "                        best_res = dict(medoids_)\n",
    "                        current_cost = tmp\n",
    "                    medoids_idx[idx] = swap_temp\n",
    "        iter_count += 1\n",
    "#         print current_cost, iter_count\n",
    "        if best_choice == medoids_idx: break\n",
    "        if current_cost <= pre_cost:\n",
    "            pre_cost = current_cost\n",
    "            medoids = best_res\n",
    "            medoids_idx = best_choice\n",
    "\n",
    "    return current_cost, best_choice, best_res"
   ]
  },
  {
   "cell_type": "code",
   "execution_count": 19,
   "metadata": {},
   "outputs": [
    {
     "ename": "ValueError",
     "evalue": "Sample larger than population or is negative",
     "output_type": "error",
     "traceback": [
      "\u001b[1;31m---------------------------------------------------------------------------\u001b[0m",
      "\u001b[1;31mValueError\u001b[0m                                Traceback (most recent call last)",
      "\u001b[1;32m<ipython-input-19-9ba2e41b196f>\u001b[0m in \u001b[0;36m<module>\u001b[1;34m\u001b[0m\n\u001b[1;32m----> 1\u001b[1;33m \u001b[0mbest_cost\u001b[0m\u001b[1;33m,\u001b[0m \u001b[0mbest_choice\u001b[0m\u001b[1;33m,\u001b[0m \u001b[0mbest_medoids\u001b[0m \u001b[1;33m=\u001b[0m \u001b[0mkmedoids\u001b[0m\u001b[1;33m(\u001b[0m\u001b[0mdata\u001b[0m\u001b[1;33m,\u001b[0m \u001b[1;36m15\u001b[0m\u001b[1;33m)\u001b[0m\u001b[1;33m\u001b[0m\u001b[1;33m\u001b[0m\u001b[0m\n\u001b[0m",
      "\u001b[1;32m<ipython-input-18-ebcd90986458>\u001b[0m in \u001b[0;36mkmedoids\u001b[1;34m(blogwords, k)\u001b[0m\n\u001b[0;32m      2\u001b[0m     \u001b[1;32mimport\u001b[0m \u001b[0mrandom\u001b[0m\u001b[1;33m\u001b[0m\u001b[1;33m\u001b[0m\u001b[0m\n\u001b[0;32m      3\u001b[0m     \u001b[0msize\u001b[0m \u001b[1;33m=\u001b[0m \u001b[0mlen\u001b[0m\u001b[1;33m(\u001b[0m\u001b[0mblogwords\u001b[0m\u001b[1;33m)\u001b[0m\u001b[1;33m\u001b[0m\u001b[1;33m\u001b[0m\u001b[0m\n\u001b[1;32m----> 4\u001b[1;33m     \u001b[0mmedoids_idx\u001b[0m \u001b[1;33m=\u001b[0m \u001b[0mrandom\u001b[0m\u001b[1;33m.\u001b[0m\u001b[0msample\u001b[0m\u001b[1;33m(\u001b[0m\u001b[1;33m[\u001b[0m\u001b[0mi\u001b[0m \u001b[1;32mfor\u001b[0m \u001b[0mi\u001b[0m \u001b[1;32min\u001b[0m \u001b[0mrange\u001b[0m\u001b[1;33m(\u001b[0m\u001b[0msize\u001b[0m\u001b[1;33m)\u001b[0m\u001b[1;33m]\u001b[0m\u001b[1;33m,\u001b[0m \u001b[0mk\u001b[0m\u001b[1;33m)\u001b[0m\u001b[1;33m\u001b[0m\u001b[1;33m\u001b[0m\u001b[0m\n\u001b[0m\u001b[0;32m      5\u001b[0m     \u001b[0mpre_cost\u001b[0m\u001b[1;33m,\u001b[0m \u001b[0mmedoids\u001b[0m \u001b[1;33m=\u001b[0m \u001b[0mtotalcost\u001b[0m\u001b[1;33m(\u001b[0m\u001b[0mblogwords\u001b[0m\u001b[1;33m,\u001b[0m \u001b[0mpearson_distance\u001b[0m\u001b[1;33m,\u001b[0m \u001b[0mmedoids_idx\u001b[0m\u001b[1;33m)\u001b[0m\u001b[1;33m\u001b[0m\u001b[1;33m\u001b[0m\u001b[0m\n\u001b[0;32m      6\u001b[0m \u001b[1;31m#     print pre_cost\u001b[0m\u001b[1;33m\u001b[0m\u001b[1;33m\u001b[0m\u001b[1;33m\u001b[0m\u001b[0m\n",
      "\u001b[1;32mD:\\Users\\Tianh\\Anaconda3\\lib\\random.py\u001b[0m in \u001b[0;36msample\u001b[1;34m(self, population, k)\u001b[0m\n\u001b[0;32m    319\u001b[0m         \u001b[0mn\u001b[0m \u001b[1;33m=\u001b[0m \u001b[0mlen\u001b[0m\u001b[1;33m(\u001b[0m\u001b[0mpopulation\u001b[0m\u001b[1;33m)\u001b[0m\u001b[1;33m\u001b[0m\u001b[1;33m\u001b[0m\u001b[0m\n\u001b[0;32m    320\u001b[0m         \u001b[1;32mif\u001b[0m \u001b[1;32mnot\u001b[0m \u001b[1;36m0\u001b[0m \u001b[1;33m<=\u001b[0m \u001b[0mk\u001b[0m \u001b[1;33m<=\u001b[0m \u001b[0mn\u001b[0m\u001b[1;33m:\u001b[0m\u001b[1;33m\u001b[0m\u001b[1;33m\u001b[0m\u001b[0m\n\u001b[1;32m--> 321\u001b[1;33m             \u001b[1;32mraise\u001b[0m \u001b[0mValueError\u001b[0m\u001b[1;33m(\u001b[0m\u001b[1;34m\"Sample larger than population or is negative\"\u001b[0m\u001b[1;33m)\u001b[0m\u001b[1;33m\u001b[0m\u001b[1;33m\u001b[0m\u001b[0m\n\u001b[0m\u001b[0;32m    322\u001b[0m         \u001b[0mresult\u001b[0m \u001b[1;33m=\u001b[0m \u001b[1;33m[\u001b[0m\u001b[1;32mNone\u001b[0m\u001b[1;33m]\u001b[0m \u001b[1;33m*\u001b[0m \u001b[0mk\u001b[0m\u001b[1;33m\u001b[0m\u001b[1;33m\u001b[0m\u001b[0m\n\u001b[0;32m    323\u001b[0m         \u001b[0msetsize\u001b[0m \u001b[1;33m=\u001b[0m \u001b[1;36m21\u001b[0m        \u001b[1;31m# size of a small set minus size of an empty list\u001b[0m\u001b[1;33m\u001b[0m\u001b[1;33m\u001b[0m\u001b[0m\n",
      "\u001b[1;31mValueError\u001b[0m: Sample larger than population or is negative"
     ]
    }
   ],
   "source": [
    "best_cost, best_choice, best_medoids = kmedoids(data, 15)"
   ]
  },
  {
   "cell_type": "code",
   "execution_count": null,
   "metadata": {},
   "outputs": [],
   "source": [
    "data = mat(data)\n",
    "listone = []"
   ]
  },
  {
   "cell_type": "code",
   "execution_count": null,
   "metadata": {},
   "outputs": [],
   "source": []
  },
  {
   "cell_type": "code",
   "execution_count": 22,
   "metadata": {},
   "outputs": [],
   "source": [
    "#聚类评价"
   ]
  },
  {
   "cell_type": "code",
   "execution_count": 23,
   "metadata": {},
   "outputs": [
    {
     "name": "stdout",
     "output_type": "stream",
     "text": [
      "0.6128035473054246\n",
      "0.7626220065791752\n",
      "0.7914066386234303\n",
      "0.7767477396639544\n",
      "0.4433977082926789\n",
      "0.14294047669236798\n",
      "14.849598926320414\n"
     ]
    },
    {
     "name": "stderr",
     "output_type": "stream",
     "text": [
      "D:\\Users\\Tianh\\Anaconda3\\lib\\site-packages\\sklearn\\metrics\\cluster\\supervised.py:746: FutureWarning: The behavior of AMI will change in version 0.22. To match the behavior of 'v_measure_score', AMI will use average_method='arithmetic' by default.\n",
      "  FutureWarning)\n",
      "D:\\Users\\Tianh\\Anaconda3\\lib\\site-packages\\sklearn\\utils\\deprecation.py:85: DeprecationWarning: Function calinski_harabaz_score is deprecated; Function 'calinski_harabaz_score' has been renamed to 'calinski_harabasz_score' and will be removed in version 0.23.\n",
      "  warnings.warn(msg, category=DeprecationWarning)\n"
     ]
    }
   ],
   "source": [
    "#Mutual Information based scores 互信息\n",
    "print(metrics.adjusted_mutual_info_score(true_label,predict_label))\n",
    "\n",
    "# Homogeneity 同质性 每个群集只包含单个类的成员\n",
    "print(metrics.homogeneity_score(true_label, predict_label))\n",
    "\n",
    "# completeness 完整性 类的所有成员都分配给同一个群集\n",
    "print(metrics.completeness_score(true_label, predict_label))\n",
    "\n",
    "# 两者的调和平均V-measure：\n",
    "print(metrics.v_measure_score(true_label, predict_label))\n",
    "\n",
    "#  Fowlkes-Mallows scores\n",
    "# The Fowlkes-Mallows score FMI is defined as the geometric mean \n",
    "# of the pairwise precision and recall:\n",
    "print(metrics.fowlkes_mallows_score(true_label,predict_label))\n",
    "\n",
    "# Silhouette Coefficient 轮廓系数\n",
    "print(metrics.silhouette_score(fea, predict_label, metric='euclidean'))\n",
    "\n",
    "# Calinski-Harabaz Index 分数值ss越大则聚类效果越好\n",
    "# 类别内部数据的协方差越小越好，\n",
    "# 类别之间的协方差越大越好，这样的Calinski-Harabasz分数会高。\n",
    "print(metrics.calinski_harabaz_score(fea, predict_label))"
   ]
  },
  {
   "cell_type": "code",
   "execution_count": 30,
   "metadata": {},
   "outputs": [],
   "source": [
    "#一些评价指标的实现代码"
   ]
  },
  {
   "cell_type": "code",
   "execution_count": 31,
   "metadata": {},
   "outputs": [],
   "source": [
    "# 交叉熵及纯度实现参考博客：\n",
    "# https://blog.csdn.net/vernice/article/details/46467449"
   ]
  },
  {
   "cell_type": "code",
   "execution_count": null,
   "metadata": {},
   "outputs": [],
   "source": []
  },
  {
   "cell_type": "code",
   "execution_count": null,
   "metadata": {},
   "outputs": [],
   "source": [
    "#老师上课所讲"
   ]
  },
  {
   "cell_type": "code",
   "execution_count": 8,
   "metadata": {},
   "outputs": [],
   "source": [
    "# scipy.io.savemat()"
   ]
  },
  {
   "cell_type": "code",
   "execution_count": null,
   "metadata": {},
   "outputs": [],
   "source": []
  }
 ],
 "metadata": {
  "kernelspec": {
   "display_name": "Python 3",
   "language": "python",
   "name": "python3"
  },
  "language_info": {
   "codemirror_mode": {
    "name": "ipython",
    "version": 3
   },
   "file_extension": ".py",
   "mimetype": "text/x-python",
   "name": "python",
   "nbconvert_exporter": "python",
   "pygments_lexer": "ipython3",
   "version": "3.7.3"
  }
 },
 "nbformat": 4,
 "nbformat_minor": 2
}
