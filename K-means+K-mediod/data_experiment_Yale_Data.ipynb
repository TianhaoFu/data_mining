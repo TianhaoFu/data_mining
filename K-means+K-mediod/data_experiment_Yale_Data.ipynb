{
 "cells": [
  {
   "cell_type": "code",
   "execution_count": 33,
   "metadata": {},
   "outputs": [],
   "source": [
    "# 本文所用评价指标参考博客：\n",
    "# https://blog.csdn.net/sinat_26917383/article/details/70577710"
   ]
  },
  {
   "cell_type": "code",
   "execution_count": 34,
   "metadata": {},
   "outputs": [],
   "source": [
    "import scipy.io\n",
    "import numpy as np\n",
    "import os\n",
    "import matplotlib.pyplot as plt\n",
    "from sklearn.cluster import KMeans\n",
    "from sklearn import metrics "
   ]
  },
  {
   "cell_type": "code",
   "execution_count": 35,
   "metadata": {},
   "outputs": [],
   "source": [
    "# http://cvc.cs.yale.edu/cvc/projects/yalefaces/yalefaces.html\n",
    "# 由耶鲁大学计算视觉与控制中心创建，包含15位志愿者的165张图片，包含光照、表情和姿态的变化。\n",
    "# Yale人脸数据库中一个采集志愿者的10张样本，\n",
    "# 相比较ORL人脸数据库Yale库中每个对象采集的样本包含更明显的光照、表情和姿态以及遮挡变化。"
   ]
  },
  {
   "cell_type": "code",
   "execution_count": 36,
   "metadata": {},
   "outputs": [
    {
     "data": {
      "text/plain": [
       "'C:\\\\Users\\\\Tianh\\\\Desktop\\\\fth'"
      ]
     },
     "execution_count": 36,
     "metadata": {},
     "output_type": "execute_result"
    }
   ],
   "source": [
    "os.getcwd()"
   ]
  },
  {
   "cell_type": "code",
   "execution_count": 37,
   "metadata": {},
   "outputs": [
    {
     "name": "stdout",
     "output_type": "stream",
     "text": [
      " 驱动器 C 中的卷是 OS\n",
      " 卷的序列号是 7A99-DFFA\n",
      "\n",
      " C:\\Users\\Tianh\\Desktop\\fth 的目录\n",
      "\n",
      "2019/10/19  09:49    <DIR>          .\n",
      "2019/10/19  09:49    <DIR>          ..\n",
      "2019/10/19  09:49    <DIR>          .ipynb_checkpoints\n",
      "2019/10/19  09:47            18,936 data_experiment_ORL_data.ipynb\n",
      "2019/10/19  09:48            18,675 data_experiment_WINE_white_Data.ipynb\n",
      "2019/10/19  09:47            54,806 data_experiment_WINR__data.ipynb\n",
      "2019/10/19  09:49            18,936 data_experiment_Yale_Data.ipynb\n",
      "2019/10/18  17:50            13,071 Untitled.ipynb\n",
      "2019/10/18  18:23            49,825 Untitled1.ipynb\n",
      "2019/10/19  09:49               586 Untitled2.ipynb\n",
      "               7 个文件        174,835 字节\n",
      "               3 个目录 299,524,734,976 可用字节\n"
     ]
    }
   ],
   "source": [
    "ls"
   ]
  },
  {
   "cell_type": "code",
   "execution_count": 38,
   "metadata": {},
   "outputs": [],
   "source": [
    "#导入数据"
   ]
  },
  {
   "cell_type": "code",
   "execution_count": 39,
   "metadata": {},
   "outputs": [],
   "source": [
    "data = scipy.io.loadmat('C:\\\\Users\\\\Tianh\\\\Desktop\\\\DMLab\\\\data\\\\face\\\\Yale_32x32.mat')"
   ]
  },
  {
   "cell_type": "code",
   "execution_count": 40,
   "metadata": {},
   "outputs": [
    {
     "data": {
      "text/plain": [
       "dict_keys(['__header__', '__version__', '__globals__', 'fea', 'gnd'])"
      ]
     },
     "execution_count": 40,
     "metadata": {},
     "output_type": "execute_result"
    }
   ],
   "source": [
    "type(data)\n",
    "data\n",
    "data.keys()"
   ]
  },
  {
   "cell_type": "code",
   "execution_count": 41,
   "metadata": {},
   "outputs": [],
   "source": [
    "#对数据进行预处理"
   ]
  },
  {
   "cell_type": "code",
   "execution_count": 42,
   "metadata": {},
   "outputs": [],
   "source": [
    "fea = data['fea']"
   ]
  },
  {
   "cell_type": "code",
   "execution_count": 43,
   "metadata": {},
   "outputs": [
    {
     "data": {
      "text/plain": [
       "array([[ 24,  24,  26, ...,  73, 138, 205],\n",
       "       [ 70,  68,  49, ..., 248, 255, 254],\n",
       "       [ 74,  71,  64, ..., 254, 253, 164],\n",
       "       ...,\n",
       "       [ 59, 117,  58, ..., 200, 237, 241],\n",
       "       [ 52,  39,  37, ..., 255, 245, 219],\n",
       "       [ 15,  12,  11, ...,  49,  33,  16]], dtype=uint8)"
      ]
     },
     "execution_count": 43,
     "metadata": {},
     "output_type": "execute_result"
    }
   ],
   "source": [
    "fea"
   ]
  },
  {
   "cell_type": "code",
   "execution_count": 44,
   "metadata": {},
   "outputs": [
    {
     "name": "stdout",
     "output_type": "stream",
     "text": [
      "(165, 1024)\n",
      "<class 'numpy.ndarray'>\n",
      "uint8\n",
      "float64\n",
      "[[ 24.  24.  26. ...  73. 138. 205.]\n",
      " [ 70.  68.  49. ... 248. 255. 254.]\n",
      " [ 74.  71.  64. ... 254. 253. 164.]\n",
      " ...\n",
      " [ 59. 117.  58. ... 200. 237. 241.]\n",
      " [ 52.  39.  37. ... 255. 245. 219.]\n",
      " [ 15.  12.  11. ...  49.  33.  16.]]\n"
     ]
    }
   ],
   "source": [
    "print(fea.shape)\n",
    "print(type(fea))\n",
    "print(fea.dtype)\n",
    "fea = data['fea'].astype(np.float64)\n",
    "print(fea.dtype)\n",
    "print(fea)"
   ]
  },
  {
   "cell_type": "code",
   "execution_count": 45,
   "metadata": {},
   "outputs": [
    {
     "name": "stdout",
     "output_type": "stream",
     "text": [
      "<class 'numpy.ndarray'>\n",
      "(165, 1)\n",
      "<class 'numpy.ndarray'>\n",
      "(165,)\n",
      "[ 1  1  1  1  1  1  1  1  1  1  1  2  2  2  2  2  2  2  2  2  2  2  3  3\n",
      "  3  3  3  3  3  3  3  3  3  4  4  4  4  4  4  4  4  4  4  4  5  5  5  5\n",
      "  5  5  5  5  5  5  5  6  6  6  6  6  6  6  6  6  6  6  7  7  7  7  7  7\n",
      "  7  7  7  7  7  8  8  8  8  8  8  8  8  8  8  8  9  9  9  9  9  9  9  9\n",
      "  9  9  9 10 10 10 10 10 10 10 10 10 10 10 11 11 11 11 11 11 11 11 11 11\n",
      " 11 12 12 12 12 12 12 12 12 12 12 12 13 13 13 13 13 13 13 13 13 13 13 14\n",
      " 14 14 14 14 14 14 14 14 14 14 15 15 15 15 15 15 15 15 15 15 15]\n"
     ]
    }
   ],
   "source": [
    "# print(data['gnd'])\n",
    "print(type(data['gnd']))\n",
    "print(data['gnd'].shape)\n",
    "true_label= data['gnd'].ravel()  #降维 返回视图\n",
    "# print(gnd)\n",
    "print(type(true_label))\n",
    "print(true_label.shape)\n",
    "print(true_label)"
   ]
  },
  {
   "cell_type": "code",
   "execution_count": 46,
   "metadata": {},
   "outputs": [],
   "source": [
    "#对数据进行归一化"
   ]
  },
  {
   "cell_type": "code",
   "execution_count": 47,
   "metadata": {},
   "outputs": [],
   "source": [
    "#最大最小值归一化\n",
    "# 参考博客：https://blog.csdn.net/zlzl8885/article/details/78094366\n",
    "def minmax_Norm(dataSet):\n",
    "    minVals = dataSet.min(0) # 取每一列的最小值\n",
    "    maxVals = dataSet.max(0) # 取每一列的最大值\n",
    "    ranges = maxVals - minVals\n",
    "    normDataSet = np.zeros(np.shape(dataSet))\n",
    "    m = dataSet.shape[0]\n",
    "    normDataSet = dataSet - np.tile(minVals, (m, 1))\n",
    "    normDataSet = normDataSet/np.tile(ranges, (m, 1))   \n",
    "    return normDataSet"
   ]
  },
  {
   "cell_type": "code",
   "execution_count": 48,
   "metadata": {},
   "outputs": [],
   "source": [
    "# Z-score归一化\n",
    "# 参考博客：https://blog.csdn.net/sinat_36458870/article/details/79498302#2Zscore_22\n",
    "def ZScore_Norm(dataSet):  \n",
    "    mu = dataSet.average()\n",
    "    sigma = dataSet.std()\n",
    "    x = (x - mu) / sigma\n",
    "    return datsSet  "
   ]
  },
  {
   "cell_type": "code",
   "execution_count": 49,
   "metadata": {},
   "outputs": [],
   "source": [
    "# Sigmoid归一化\n",
    "# Sigmoid函数是一个具有S形曲线的函数，\n",
    "# 是良好的阈值函数，在(0, 0.5)处中心对称，\n",
    "# 在(0, 0.5)附近有比较大的斜率而当数据趋向于正无穷和负无穷的时候，\n",
    "# 映射出来的值就会无限趋向于1和0\n",
    "def sigmoid_Norm(dataSet,useStatus):  \n",
    "    if useStatus:  \n",
    "        return 1.0 / (1 + np.exp(-float(dataSet)))\n",
    "    else:  \n",
    "        return float(dataSet)\n",
    "# useStatus管理是否使用sigmoid的状态，方便调试使用"
   ]
  },
  {
   "cell_type": "code",
   "execution_count": 50,
   "metadata": {},
   "outputs": [
    {
     "data": {
      "text/plain": [
       "array([[0.09411765, 0.09411765, 0.10196078, ..., 0.28627451, 0.54117647,\n",
       "        0.80314961],\n",
       "       [0.2745098 , 0.26666667, 0.19215686, ..., 0.97254902, 1.        ,\n",
       "        0.99606299],\n",
       "       [0.29019608, 0.27843137, 0.25098039, ..., 0.99607843, 0.99215686,\n",
       "        0.64173228],\n",
       "       ...,\n",
       "       [0.23137255, 0.45882353, 0.22745098, ..., 0.78431373, 0.92941176,\n",
       "        0.94488189],\n",
       "       [0.20392157, 0.15294118, 0.14509804, ..., 1.        , 0.96078431,\n",
       "        0.85826772],\n",
       "       [0.05882353, 0.04705882, 0.04313725, ..., 0.19215686, 0.12941176,\n",
       "        0.05905512]])"
      ]
     },
     "execution_count": 50,
     "metadata": {},
     "output_type": "execute_result"
    }
   ],
   "source": [
    "norm_fea = minmax_Norm(fea)\n",
    "norm_fea"
   ]
  },
  {
   "cell_type": "code",
   "execution_count": 51,
   "metadata": {},
   "outputs": [],
   "source": [
    "#k-means 聚类"
   ]
  },
  {
   "cell_type": "code",
   "execution_count": 58,
   "metadata": {},
   "outputs": [],
   "source": [
    "cluster_num = 15"
   ]
  },
  {
   "cell_type": "code",
   "execution_count": 59,
   "metadata": {},
   "outputs": [],
   "source": [
    "kmeans = KMeans(n_clusters=cluster_num, random_state=0).fit(fea)"
   ]
  },
  {
   "cell_type": "code",
   "execution_count": 60,
   "metadata": {},
   "outputs": [],
   "source": [
    "predict_label  =kmeans.labels_"
   ]
  },
  {
   "cell_type": "code",
   "execution_count": 61,
   "metadata": {},
   "outputs": [
    {
     "data": {
      "text/plain": [
       "array([[ 36.6       ,  40.9       ,  44.9       , ...,  53.7       ,\n",
       "         55.        ,  62.5       ],\n",
       "       [ 20.875     ,  27.75      ,  28.875     , ..., 228.875     ,\n",
       "        213.375     , 181.125     ],\n",
       "       [ 80.        ,  45.3       ,  34.5       , ...,  65.7       ,\n",
       "         66.9       ,  80.7       ],\n",
       "       ...,\n",
       "       [ 82.        ,  67.45454545,  63.        , ..., 181.18181818,\n",
       "        159.81818182, 140.36363636],\n",
       "       [ 37.        ,  50.25      ,  68.        , ..., 254.75      ,\n",
       "        240.75      , 244.5       ],\n",
       "       [ 22.18181818,  22.45454545,  23.09090909, ..., 210.09090909,\n",
       "        172.63636364, 153.54545455]])"
      ]
     },
     "execution_count": 61,
     "metadata": {},
     "output_type": "execute_result"
    }
   ],
   "source": [
    "kmeans.cluster_centers_"
   ]
  },
  {
   "cell_type": "code",
   "execution_count": 1,
   "metadata": {},
   "outputs": [],
   "source": [
    "#k-mediod 聚类"
   ]
  },
  {
   "cell_type": "code",
   "execution_count": 2,
   "metadata": {},
   "outputs": [],
   "source": [
    "def pearson_distance(vector1, vector2):\n",
    "    from scipy.spatial.distance import pdist\n",
    "    X = vstack([vector1, vector2])\n",
    "    d2 = pdist(X)\n",
    "    return d2"
   ]
  },
  {
   "cell_type": "code",
   "execution_count": 3,
   "metadata": {},
   "outputs": [],
   "source": [
    "distances_cache = {}"
   ]
  },
  {
   "cell_type": "code",
   "execution_count": 4,
   "metadata": {},
   "outputs": [],
   "source": [
    "def totalcost(blogwords, costf, medoids_idx):\n",
    "    size = len(blogwords)\n",
    "    total_cost = 0.0\n",
    "    medoids = {}\n",
    "    for idx in medoids_idx:\n",
    "        medoids[idx] = []\n",
    "    for i in range(size):\n",
    "        choice = None\n",
    "        min_cost = inf\n",
    "        for m in medoids:\n",
    "            tmp = distances_cache.get((m, i), None)\n",
    "            if tmp == None:\n",
    "                tmp = pearson_distance(blogwords[m], blogwords[i])\n",
    "                distances_cache[(m, i)] = tmp\n",
    "            if tmp < min_cost:\n",
    "                choice = m\n",
    "                min_cost = tmp\n",
    "        medoids[choice].append(i)\n",
    "        total_cost += min_cost\n",
    "    return total_cost, medoids"
   ]
  },
  {
   "cell_type": "code",
   "execution_count": null,
   "metadata": {},
   "outputs": [],
   "source": [
    "def kmedoids(blogwords, k):\n",
    "    import random\n",
    "    size = len(blogwords)\n",
    "    medoids_idx = random.sample([i for i in range(size)], k)\n",
    "    pre_cost, medoids = totalcost(blogwords, pearson_distance, medoids_idx)\n",
    "#     print pre_cost\n",
    "    current_cost = inf  # maxmum of pearson_distances is 2.\n",
    "    best_choice = []\n",
    "    best_res = {}\n",
    "    iter_count = 0\n",
    "    while 1:\n",
    "        for m in medoids:\n",
    "            for item in medoids[m]:\n",
    "                if item != m:\n",
    "                    idx = medoids_idx.index(m)\n",
    "                    swap_temp = medoids_idx[idx]\n",
    "                    medoids_idx[idx] = item\n",
    "                    tmp, medoids_ = totalcost(blogwords, pearson_distance, medoids_idx)\n",
    "                    # print tmp,'-------->',medoids_.keys()\n",
    "                    if tmp < current_cost:\n",
    "                        best_choice = list(medoids_idx)\n",
    "                        best_res = dict(medoids_)\n",
    "                        current_cost = tmp\n",
    "                    medoids_idx[idx] = swap_temp\n",
    "        iter_count += 1\n",
    "#         print current_cost, iter_count\n",
    "        if best_choice == medoids_idx: break\n",
    "        if current_cost <= pre_cost:\n",
    "            pre_cost = current_cost\n",
    "            medoids = best_res\n",
    "            medoids_idx = best_choice\n",
    "\n",
    "    return current_cost, best_choice, best_res"
   ]
  },
  {
   "cell_type": "code",
   "execution_count": 62,
   "metadata": {},
   "outputs": [],
   "source": [
    "#聚类评价"
   ]
  },
  {
   "cell_type": "code",
   "execution_count": 63,
   "metadata": {},
   "outputs": [
    {
     "name": "stdout",
     "output_type": "stream",
     "text": [
      "0.3038688520384002\n",
      "0.46837384203190396\n",
      "0.5073769627444457\n",
      "0.4870958778323812\n",
      "0.2720501361715617\n",
      "0.12284307028703369\n",
      "11.411153255059657\n"
     ]
    },
    {
     "name": "stderr",
     "output_type": "stream",
     "text": [
      "D:\\Users\\Tianh\\Anaconda3\\lib\\site-packages\\sklearn\\metrics\\cluster\\supervised.py:746: FutureWarning: The behavior of AMI will change in version 0.22. To match the behavior of 'v_measure_score', AMI will use average_method='arithmetic' by default.\n",
      "  FutureWarning)\n",
      "D:\\Users\\Tianh\\Anaconda3\\lib\\site-packages\\sklearn\\utils\\deprecation.py:85: DeprecationWarning: Function calinski_harabaz_score is deprecated; Function 'calinski_harabaz_score' has been renamed to 'calinski_harabasz_score' and will be removed in version 0.23.\n",
      "  warnings.warn(msg, category=DeprecationWarning)\n"
     ]
    }
   ],
   "source": [
    "#Mutual Information based scores 互信息\n",
    "print(metrics.adjusted_mutual_info_score(true_label,predict_label))\n",
    "\n",
    "# Homogeneity 同质性 每个群集只包含单个类的成员\n",
    "print(metrics.homogeneity_score(true_label, predict_label))\n",
    "\n",
    "# completeness 完整性 类的所有成员都分配给同一个群集\n",
    "print(metrics.completeness_score(true_label, predict_label))\n",
    "\n",
    "# 两者的调和平均V-measure：\n",
    "print(metrics.v_measure_score(true_label, predict_label))\n",
    "\n",
    "#  Fowlkes-Mallows scores\n",
    "# The Fowlkes-Mallows score FMI is defined as the geometric mean \n",
    "# of the pairwise precision and recall:\n",
    "print(metrics.fowlkes_mallows_score(true_label,predict_label))\n",
    "\n",
    "# Silhouette Coefficient 轮廓系数\n",
    "print(metrics.silhouette_score(fea, predict_label, metric='euclidean'))\n",
    "\n",
    "# Calinski-Harabaz Index 分数值ss越大则聚类效果越好\n",
    "# 类别内部数据的协方差越小越好，\n",
    "# 类别之间的协方差越大越好，这样的Calinski-Harabasz分数会高。\n",
    "print(metrics.calinski_harabaz_score(fea, predict_label))"
   ]
  },
  {
   "cell_type": "code",
   "execution_count": 30,
   "metadata": {},
   "outputs": [],
   "source": [
    "#一些评价指标的实现代码"
   ]
  },
  {
   "cell_type": "code",
   "execution_count": 31,
   "metadata": {},
   "outputs": [],
   "source": [
    "# 交叉熵及纯度实现参考博客：\n",
    "# https://blog.csdn.net/vernice/article/details/46467449"
   ]
  },
  {
   "cell_type": "code",
   "execution_count": null,
   "metadata": {},
   "outputs": [],
   "source": []
  },
  {
   "cell_type": "code",
   "execution_count": null,
   "metadata": {},
   "outputs": [],
   "source": [
    "#老师上课所讲"
   ]
  },
  {
   "cell_type": "code",
   "execution_count": 6,
   "metadata": {},
   "outputs": [],
   "source": [
    "# scipy.io.savemat()"
   ]
  },
  {
   "cell_type": "code",
   "execution_count": null,
   "metadata": {},
   "outputs": [],
   "source": []
  }
 ],
 "metadata": {
  "kernelspec": {
   "display_name": "Python 3",
   "language": "python",
   "name": "python3"
  },
  "language_info": {
   "codemirror_mode": {
    "name": "ipython",
    "version": 3
   },
   "file_extension": ".py",
   "mimetype": "text/x-python",
   "name": "python",
   "nbconvert_exporter": "python",
   "pygments_lexer": "ipython3",
   "version": "3.7.3"
  }
 },
 "nbformat": 4,
 "nbformat_minor": 2
}
