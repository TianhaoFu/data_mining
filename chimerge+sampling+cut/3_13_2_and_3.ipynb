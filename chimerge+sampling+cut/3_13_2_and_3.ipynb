{
 "cells": [
  {
   "cell_type": "code",
   "execution_count": null,
   "metadata": {},
   "outputs": [],
   "source": [
    "#参考代码：\n",
    "https://github.com/pandas-dev/pandas/blob/v0.25.1/pandas/core/reshape/tile.py\n",
    "https://blog.csdn.net/weixin_40683253/article/details/81780910"
   ]
  },
  {
   "cell_type": "code",
   "execution_count": 28,
   "metadata": {},
   "outputs": [],
   "source": [
    "import pandas as pd\n",
    "import numpy as np"
   ]
  },
  {
   "cell_type": "code",
   "execution_count": 8,
   "metadata": {},
   "outputs": [],
   "source": [
    "datafile = r'C:\\Users\\Tianh\\Desktop\\iris_data.csv'\n",
    "# df = pd.read_csv(r'C:\\Users\\Tianh\\Desktop\\iris_data.csv',header=None)\n",
    "data = pd.read_csv(datafile,header=None)\n",
    "data = data.iloc[:,1]\n",
    "k = 5"
   ]
  },
  {
   "cell_type": "code",
   "execution_count": 9,
   "metadata": {},
   "outputs": [
    {
     "data": {
      "text/plain": [
       "0    3.5\n",
       "1    3.0\n",
       "2    3.2\n",
       "3    3.1\n",
       "4    3.6\n",
       "Name: 1, dtype: float64"
      ]
     },
     "execution_count": 9,
     "metadata": {},
     "output_type": "execute_result"
    }
   ],
   "source": [
    "data.head()"
   ]
  },
  {
   "cell_type": "code",
   "execution_count": 10,
   "metadata": {},
   "outputs": [
    {
     "data": {
      "text/plain": [
       "0      3.5\n",
       "1      3.0\n",
       "2      3.2\n",
       "3      3.1\n",
       "4      3.6\n",
       "      ... \n",
       "145    3.0\n",
       "146    2.5\n",
       "147    3.0\n",
       "148    3.4\n",
       "149    3.0\n",
       "Name: 1, Length: 150, dtype: float64"
      ]
     },
     "execution_count": 10,
     "metadata": {},
     "output_type": "execute_result"
    }
   ],
   "source": [
    "data"
   ]
  },
  {
   "cell_type": "code",
   "execution_count": 11,
   "metadata": {},
   "outputs": [],
   "source": [
    "#等宽离散"
   ]
  },
  {
   "cell_type": "code",
   "execution_count": 12,
   "metadata": {},
   "outputs": [],
   "source": [
    "d1 = pd.cut(data,k,labels = range(k))"
   ]
  },
  {
   "cell_type": "code",
   "execution_count": 13,
   "metadata": {},
   "outputs": [],
   "source": [
    "\n",
    "def cluster_plot(d,k):\n",
    "    import matplotlib.pyplot as plt\n",
    "    plt.rcParams['font.sans-serif'] = ['SimHei']\n",
    "    plt.rcParams['axes.unicode_minus'] = False\n",
    "    \n",
    "    plt.figure(figsize = (12,4))\n",
    "    for j in range(0,k):\n",
    "        plt.plot(data[d==j], [j for i in d[d==j]],'o')\n",
    "        \n",
    "    plt.ylim(-0.5, k-0.5)\n",
    "    return plt"
   ]
  },
  {
   "cell_type": "code",
   "execution_count": 15,
   "metadata": {},
   "outputs": [
    {
     "data": {
      "image/png": "[encoded data removed]",
      "text/plain": [
       "<Figure size 864x288 with 1 Axes>"
      ]
     },
     "metadata": {
      "needs_background": "light"
     },
     "output_type": "display_data"
    }
   ],
   "source": [
    "cluster_plot(d1, k).show()"
   ]
  },
  {
   "cell_type": "code",
   "execution_count": 16,
   "metadata": {},
   "outputs": [],
   "source": [
    "#等频离散"
   ]
  },
  {
   "cell_type": "code",
   "execution_count": 19,
   "metadata": {},
   "outputs": [],
   "source": [
    "data = data.drop_duplicates(keep=False)\n",
    "w = [1.0*i/k for i in range(k+1)]\n",
    "w = data.describe(percentiles = w)[4:4+k+1]\n",
    "w[0] = w[0]*(1-1e-10)\n",
    "d2 = pd.cut(data, w, labels = range(k))"
   ]
  },
  {
   "cell_type": "code",
   "execution_count": 22,
   "metadata": {},
   "outputs": [],
   "source": [
    "def cluster_plot(d,k):\n",
    "    import matplotlib.pyplot as plt\n",
    "    plt.rcParams['font.sans-serif'] = ['SimHei']\n",
    "    plt.rcParams['axes.unicode_minus'] = False\n",
    "    \n",
    "    plt.figure(figsize = (12,4))\n",
    "    for j in range(0,k):\n",
    "        plt.plot(data[d==j], [j for i in d[d==j]],'o')\n",
    "        \n",
    "    plt.ylim(-0.5, k-0.5)\n",
    "    return plt"
   ]
  },
  {
   "cell_type": "code",
   "execution_count": 23,
   "metadata": {},
   "outputs": [
    {
     "data": {
      "image/png": "[encoded data removed]",
      "text/plain": [
       "<Figure size 864x288 with 1 Axes>"
      ]
     },
     "metadata": {
      "needs_background": "light"
     },
     "output_type": "display_data"
    }
   ],
   "source": [
    "cluster_plot(d2, k).show()"
   ]
  },
  {
   "cell_type": "code",
   "execution_count": 32,
   "metadata": {},
   "outputs": [],
   "source": [
    "#附录:pandas.cut()源码"
   ]
  },
  {
   "cell_type": "code",
   "execution_count": 38,
   "metadata": {},
   "outputs": [],
   "source": [
    "from functools import partial\n",
    "\n",
    "from pandas._libs.lib import infer_dtype\n",
    "\n",
    "from pandas.core.dtypes.common import (\n",
    "    _NS_DTYPE,\n",
    "    ensure_int64,\n",
    "    is_categorical_dtype,\n",
    "    is_datetime64_dtype,\n",
    "    is_datetime64tz_dtype,\n",
    "    is_datetime_or_timedelta_dtype,\n",
    "    is_integer,\n",
    "    is_scalar,\n",
    "    is_timedelta64_dtype,\n",
    ")\n",
    "from pandas.core.dtypes.missing import isna\n",
    "\n",
    "from pandas import (\n",
    "    Categorical,\n",
    "    Index,\n",
    "    Interval,\n",
    "    IntervalIndex,\n",
    "    Series,\n",
    "    Timedelta,\n",
    "    Timestamp,\n",
    "    to_datetime,\n",
    "    to_timedelta,\n",
    ")\n",
    "import pandas.core.algorithms as algos\n",
    "import pandas.core.nanops as nanops"
   ]
  },
  {
   "cell_type": "code",
   "execution_count": 47,
   "metadata": {},
   "outputs": [],
   "source": [
    "def _preprocess_for_cut(x):\n",
    "    \"\"\"\n",
    "    handles preprocessing for cut where we convert passed\n",
    "    input to array, strip the index information and store it\n",
    "    separately\n",
    "    \"\"\"\n",
    "    x_is_series = isinstance(x, Series)\n",
    "    series_index = None\n",
    "    name = None\n",
    "\n",
    "    if x_is_series:\n",
    "        series_index = x.index\n",
    "        name = x.name\n",
    "\n",
    "    # Check that the passed array is a Pandas or Numpy object\n",
    "    # We don't want to strip away a Pandas data-type here (e.g. datetimetz)\n",
    "    ndim = getattr(x, \"ndim\", None)\n",
    "    if ndim is None:\n",
    "        x = np.asarray(x)\n",
    "    if x.ndim != 1:\n",
    "        raise ValueError(\"Input array must be 1 dimensional\")\n",
    "\n",
    "    return x_is_series, series_index, name, x\n"
   ]
  },
  {
   "cell_type": "code",
   "execution_count": 48,
   "metadata": {},
   "outputs": [],
   "source": [
    "def _coerce_to_type(x):\n",
    "    \"\"\"\n",
    "    if the passed data is of datetime/timedelta type,\n",
    "    this method converts it to numeric so that cut method can\n",
    "    handle it\n",
    "    \"\"\"\n",
    "    dtype = None\n",
    "\n",
    "    if is_datetime64tz_dtype(x):\n",
    "        dtype = x.dtype\n",
    "    elif is_datetime64_dtype(x):\n",
    "        x = to_datetime(x)\n",
    "        dtype = np.dtype(\"datetime64[ns]\")\n",
    "    elif is_timedelta64_dtype(x):\n",
    "        x = to_timedelta(x)\n",
    "        dtype = np.dtype(\"timedelta64[ns]\")\n",
    "\n",
    "    if dtype is not None:\n",
    "        # GH 19768: force NaT to NaN during integer conversion\n",
    "        x = np.where(x.notna(), x.view(np.int64), np.nan)\n",
    "\n",
    "    return x, dtype"
   ]
  },
  {
   "cell_type": "code",
   "execution_count": 51,
   "metadata": {},
   "outputs": [],
   "source": [
    "def _bins_to_cuts(\n",
    "    x,\n",
    "    bins,\n",
    "    right=True,\n",
    "    labels=None,\n",
    "    precision=3,\n",
    "    include_lowest=False,\n",
    "    dtype=None,\n",
    "    duplicates=\"raise\",\n",
    "):\n",
    "\n",
    "    if duplicates not in [\"raise\", \"drop\"]:\n",
    "        raise ValueError(\n",
    "            \"invalid value for 'duplicates' parameter, \"\n",
    "            \"valid options are: raise, drop\"\n",
    "        )\n",
    "\n",
    "    if isinstance(bins, IntervalIndex):\n",
    "        # we have a fast-path here\n",
    "        ids = bins.get_indexer(x)\n",
    "        result = algos.take_nd(bins, ids)\n",
    "        result = Categorical(result, categories=bins, ordered=True)\n",
    "        return result, bins\n",
    "\n",
    "    unique_bins = algos.unique(bins)\n",
    "    if len(unique_bins) < len(bins) and len(bins) != 2:\n",
    "        if duplicates == \"raise\":\n",
    "            raise ValueError(\n",
    "                \"Bin edges must be unique: {bins!r}.\\nYou \"\n",
    "                \"can drop duplicate edges by setting \"\n",
    "                \"the 'duplicates' kwarg\".format(bins=bins)\n",
    "            )\n",
    "        else:\n",
    "            bins = unique_bins\n",
    "\n",
    "    side = \"left\" if right else \"right\"\n",
    "    ids = ensure_int64(bins.searchsorted(x, side=side))\n",
    "\n",
    "    if include_lowest:\n",
    "        ids[x == bins[0]] = 1\n",
    "\n",
    "    na_mask = isna(x) | (ids == len(bins)) | (ids == 0)\n",
    "    has_nas = na_mask.any()\n",
    "\n",
    "    if labels is not False:\n",
    "        if labels is None:\n",
    "            labels = _format_labels(\n",
    "                bins, precision, right=right, include_lowest=include_lowest, dtype=dtype\n",
    "            )\n",
    "        else:\n",
    "            if len(labels) != len(bins) - 1:\n",
    "                raise ValueError(\n",
    "                    \"Bin labels must be one fewer than \" \"the number of bin edges\"\n",
    "                )\n",
    "        if not is_categorical_dtype(labels):\n",
    "            labels = Categorical(labels, categories=labels, ordered=True)\n",
    "\n",
    "        np.putmask(ids, na_mask, 0)\n",
    "        result = algos.take_nd(labels, ids - 1)\n",
    "\n",
    "    else:\n",
    "        result = ids - 1\n",
    "        if has_nas:\n",
    "            result = result.astype(np.float64)\n",
    "            np.putmask(result, na_mask, np.nan)\n",
    "\n",
    "    return result, bins"
   ]
  },
  {
   "cell_type": "code",
   "execution_count": 53,
   "metadata": {},
   "outputs": [],
   "source": [
    "def _format_labels(bins, precision, right=True, include_lowest=False, dtype=None):\n",
    "    \"\"\" based on the dtype, return our labels \"\"\"\n",
    "\n",
    "    closed = \"right\" if right else \"left\"\n",
    "\n",
    "    if is_datetime64tz_dtype(dtype):\n",
    "        formatter = partial(Timestamp, tz=dtype.tz)\n",
    "        adjust = lambda x: x - Timedelta(\"1ns\")\n",
    "    elif is_datetime64_dtype(dtype):\n",
    "        formatter = Timestamp\n",
    "        adjust = lambda x: x - Timedelta(\"1ns\")\n",
    "    elif is_timedelta64_dtype(dtype):\n",
    "        formatter = Timedelta\n",
    "        adjust = lambda x: x - Timedelta(\"1ns\")\n",
    "    else:\n",
    "        precision = _infer_precision(precision, bins)\n",
    "        formatter = lambda x: _round_frac(x, precision)\n",
    "        adjust = lambda x: x - 10 ** (-precision)\n",
    "\n",
    "    breaks = [formatter(b) for b in bins]\n",
    "    labels = IntervalIndex.from_breaks(breaks, closed=closed)\n",
    "\n",
    "    if right and include_lowest:\n",
    "        # we will adjust the left hand side by precision to\n",
    "        # account that we are all right closed\n",
    "        v = adjust(labels[0].left)\n",
    "\n",
    "        i = IntervalIndex([Interval(v, labels[0].right, closed=\"right\")])\n",
    "        labels = i.append(labels[1:])\n",
    "\n",
    "    return labels"
   ]
  },
  {
   "cell_type": "code",
   "execution_count": 49,
   "metadata": {},
   "outputs": [],
   "source": [
    "def cut(\n",
    "    x,\n",
    "    bins,\n",
    "    right=True,\n",
    "    labels=None,\n",
    "    retbins=False,\n",
    "    precision=3,\n",
    "    include_lowest=False,\n",
    "    duplicates=\"raise\",\n",
    "):\n",
    "    # for handling the cut for datetime and timedelta objects\n",
    "    x_is_series, series_index, name, x = _preprocess_for_cut(x)\n",
    "    x, dtype = _coerce_to_type(x)\n",
    "\n",
    "    if not np.iterable(bins):\n",
    "        if is_scalar(bins) and bins < 1:\n",
    "            raise ValueError(\"`bins` should be a positive integer.\")\n",
    "\n",
    "        try:  # for array-like\n",
    "            sz = x.size\n",
    "        except AttributeError:\n",
    "            x = np.asarray(x)\n",
    "            sz = x.size\n",
    "\n",
    "        if sz == 0:\n",
    "            raise ValueError(\"Cannot cut empty array\")\n",
    "\n",
    "        rng = (nanops.nanmin(x), nanops.nanmax(x))\n",
    "        mn, mx = [mi + 0.0 for mi in rng]\n",
    "\n",
    "        if np.isinf(mn) or np.isinf(mx):\n",
    "            # GH 24314\n",
    "            raise ValueError(\n",
    "                \"cannot specify integer `bins` when input data \" \"contains infinity\"\n",
    "            )\n",
    "        elif mn == mx:  # adjust end points before binning\n",
    "            mn -= 0.001 * abs(mn) if mn != 0 else 0.001\n",
    "            mx += 0.001 * abs(mx) if mx != 0 else 0.001\n",
    "            bins = np.linspace(mn, mx, bins + 1, endpoint=True)\n",
    "        else:  # adjust end points after binning\n",
    "            bins = np.linspace(mn, mx, bins + 1, endpoint=True)\n",
    "            adj = (mx - mn) * 0.001  # 0.1% of the range\n",
    "            if right:\n",
    "                bins[0] -= adj\n",
    "            else:\n",
    "                bins[-1] += adj\n",
    "\n",
    "    elif isinstance(bins, IntervalIndex):\n",
    "        if bins.is_overlapping:\n",
    "            raise ValueError(\"Overlapping IntervalIndex is not accepted.\")\n",
    "\n",
    "    else:\n",
    "        if is_datetime64tz_dtype(bins):\n",
    "            bins = np.asarray(bins, dtype=_NS_DTYPE)\n",
    "        else:\n",
    "            bins = np.asarray(bins)\n",
    "        bins = _convert_bin_to_numeric_type(bins, dtype)\n",
    "\n",
    "        # GH 26045: cast to float64 to avoid an overflow\n",
    "        if (np.diff(bins.astype(\"float64\")) < 0).any():\n",
    "            raise ValueError(\"bins must increase monotonically.\")\n",
    "\n",
    "    fac, bins = _bins_to_cuts(\n",
    "        x,\n",
    "        bins,\n",
    "        right=right,\n",
    "        labels=labels,\n",
    "        precision=precision,\n",
    "        include_lowest=include_lowest,\n",
    "        dtype=dtype,\n",
    "        duplicates=duplicates,\n",
    "    )\n",
    "\n",
    "    return _postprocess_for_cut(\n",
    "        fac, bins, retbins, x_is_series, series_index, name, dtype\n",
    "    )"
   ]
  },
  {
   "cell_type": "code",
   "execution_count": 54,
   "metadata": {},
   "outputs": [],
   "source": [
    "def _round_frac(x, precision):\n",
    "    \"\"\"\n",
    "    Round the fractional part of the given number\n",
    "    \"\"\"\n",
    "    if not np.isfinite(x) or x == 0:\n",
    "        return x\n",
    "    else:\n",
    "        frac, whole = np.modf(x)\n",
    "        if whole == 0:\n",
    "            digits = -int(np.floor(np.log10(abs(frac)))) - 1 + precision\n",
    "        else:\n",
    "            digits = precision\n",
    "        return np.around(x, digits)"
   ]
  },
  {
   "cell_type": "code",
   "execution_count": 55,
   "metadata": {},
   "outputs": [],
   "source": [
    "def _infer_precision(base_precision, bins):\n",
    "    \"\"\"Infer an appropriate precision for _round_frac\n",
    "    \"\"\"\n",
    "    for precision in range(base_precision, 20):\n",
    "        levels = [_round_frac(b, precision) for b in bins]\n",
    "        if algos.unique(levels).size == bins.size:\n",
    "            return precision\n",
    "    return base_precision  # default"
   ]
  },
  {
   "cell_type": "code",
   "execution_count": 58,
   "metadata": {},
   "outputs": [],
   "source": [
    "def _convert_bin_to_datelike_type(bins, dtype):\n",
    "    \"\"\"\n",
    "    Convert bins to a DatetimeIndex or TimedeltaIndex if the original dtype is\n",
    "    datelike\n",
    "    Parameters\n",
    "    ----------\n",
    "    bins : list-like of bins\n",
    "    dtype : dtype of data\n",
    "    Returns\n",
    "    -------\n",
    "    bins : Array-like of bins, DatetimeIndex or TimedeltaIndex if dtype is\n",
    "           datelike\n",
    "    \"\"\"\n",
    "    if is_datetime64tz_dtype(dtype):\n",
    "        bins = to_datetime(bins.astype(np.int64), utc=True).tz_convert(dtype.tz)\n",
    "    elif is_datetime_or_timedelta_dtype(dtype):\n",
    "        bins = Index(bins.astype(np.int64), dtype=dtype)\n",
    "    return bins"
   ]
  },
  {
   "cell_type": "code",
   "execution_count": 59,
   "metadata": {},
   "outputs": [
    {
     "data": {
      "text/plain": [
       "[(0.994, 3.0], (5.0, 7.0], (3.0, 5.0], (3.0, 5.0], (5.0, 7.0], (0.994, 3.0]]\n",
       "Categories (3, interval[float64]): [(0.994, 3.0] < (3.0, 5.0] < (5.0, 7.0]]"
      ]
     },
     "execution_count": 59,
     "metadata": {},
     "output_type": "execute_result"
    }
   ],
   "source": [
    "cut(np.array([1, 7, 5, 4, 6, 3]), 3)"
   ]
  },
  {
   "cell_type": "code",
   "execution_count": 60,
   "metadata": {},
   "outputs": [
    {
     "data": {
      "text/plain": [
       "([(0.994, 3.0], (5.0, 7.0], (3.0, 5.0], (3.0, 5.0], (5.0, 7.0], (0.994, 3.0]]\n",
       " Categories (3, interval[float64]): [(0.994, 3.0] < (3.0, 5.0] < (5.0, 7.0]],\n",
       " array([0.994, 3.   , 5.   , 7.   ]))"
      ]
     },
     "execution_count": 60,
     "metadata": {},
     "output_type": "execute_result"
    }
   ],
   "source": [
    "cut(np.array([1, 7, 5, 4, 6, 3]), 3, retbins=True)"
   ]
  },
  {
   "cell_type": "code",
   "execution_count": null,
   "metadata": {},
   "outputs": [],
   "source": []
  }
 ],
 "metadata": {
  "kernelspec": {
   "display_name": "Python [conda env:pytorch]",
   "language": "python",
   "name": "conda-env-pytorch-py"
  },
  "language_info": {
   "codemirror_mode": {
    "name": "ipython",
    "version": 3
   },
   "file_extension": ".py",
   "mimetype": "text/x-python",
   "name": "python",
   "nbconvert_exporter": "python",
   "pygments_lexer": "ipython3",
   "version": "3.5.6"
  }
 },
 "nbformat": 4,
 "nbformat_minor": 2
}
