{
 "cells": [
  {
   "cell_type": "code",
   "execution_count": 53,
   "metadata": {},
   "outputs": [],
   "source": [
    "import numpy as np\n",
    "import pandas as pd\n",
    "import matplotlib.pyplot as plt\n",
    "import csv\n",
    "\n",
    "import scipy.io\n",
    "import seaborn as sns; sns.set()\n",
    "\n",
    "from sklearn.mixture import GaussianMixture\n",
    "\n",
    "from sklearn import metrics"
   ]
  },
  {
   "cell_type": "code",
   "execution_count": 54,
   "metadata": {},
   "outputs": [],
   "source": [
    "#参考博客：https://www.douban.com/group/topic/104748979/"
   ]
  },
  {
   "cell_type": "code",
   "execution_count": null,
   "metadata": {},
   "outputs": [],
   "source": [
    "#1、数据集导入"
   ]
  },
  {
   "cell_type": "code",
   "execution_count": 55,
   "metadata": {},
   "outputs": [],
   "source": [
    "data1 = scipy.io.loadmat('C:\\\\Users\\\\Tianh\\\\Desktop\\\\DMLab\\\\data\\\\face\\\\ORL_32x32.mat')\n",
    "df2 =pd.read_csv('C:\\\\Users\\\\Tianh\\\\Desktop\\\\DMLab\\\\data\\\\wineequality\\\\winequality-white.csv',delimiter=';')\n",
    "df3 =pd.read_csv('C:\\\\Users\\\\Tianh\\\\Desktop\\\\DMLab\\\\data\\\\wineequality\\\\winequality-red.csv',delimiter=';')\n",
    "data4 = scipy.io.loadmat('C:\\\\Users\\\\Tianh\\\\Desktop\\\\DMLab\\\\data\\\\face\\\\Yale_32x32.mat')\n",
    "data5 = pd.read_csv(r\"C:\\Users\\\\Tianh\\Desktop\\DMLab\\data\\Iris\\iris_data.csv\",header = None)"
   ]
  },
  {
   "cell_type": "code",
   "execution_count": null,
   "metadata": {},
   "outputs": [],
   "source": [
    "#2、数据集预处理得到数据集样本特征及标签"
   ]
  },
  {
   "cell_type": "code",
   "execution_count": 56,
   "metadata": {},
   "outputs": [],
   "source": [
    "fea1 = data['fea'].astype(np.float64)\n",
    "fea1 = data['fea'].astype(np.float64)\n",
    "true_label1= data['gnd'].ravel()\n",
    "\n",
    "fea2 = df2.drop('quality',axis=1)\n",
    "fea2 = np.array(fea2)\n",
    "true_label2 = df2['quality']\n",
    "true_label2 = np.array(true_label2)\n",
    "\n",
    "fea3 = df3.drop('quality',axis=1)\n",
    "fea3 = np.array(fea3)\n",
    "true_label3 = df3['quality']\n",
    "true_label3 = np.array(true_label3)\n",
    "\n",
    "fea4 = data4['fea'].astype(np.float64)\n",
    "true_label4= data4['gnd'].ravel()\n",
    "\n",
    "fea5 = np.array(data5.iloc[:,0:4])\n",
    "true_label5 = data5[4]"
   ]
  },
  {
   "cell_type": "code",
   "execution_count": null,
   "metadata": {},
   "outputs": [],
   "source": [
    "#3、高斯聚类"
   ]
  },
  {
   "cell_type": "code",
   "execution_count": 90,
   "metadata": {},
   "outputs": [],
   "source": [
    "gmm = GaussianMixture(n_components=4).fit(fea5)\n",
    "predict_label = gmm.predict(fea5)\n",
    "plt.scatter(fea5[:, 0], fea5[:, 1], c=predict_label, s=40, cmap='viridis');\n",
    "plt.scatter(fea2[:, 0], fea2[:, 1])"
   ]
  },
  {
   "cell_type": "code",
   "execution_count": null,
   "metadata": {},
   "outputs": [],
   "source": [
    "#4、聚类结果分析1 观察每一个样本点的分类概率"
   ]
  },
  {
   "cell_type": "code",
   "execution_count": 100,
   "metadata": {},
   "outputs": [
    {
     "name": "stdout",
     "output_type": "stream",
     "text": [
      "[[0. 1. 0. 0.]\n",
      " [0. 1. 0. 0.]\n",
      " [0. 1. 0. 0.]\n",
      " [0. 1. 0. 0.]\n",
      " [0. 1. 0. 0.]]\n"
     ]
    }
   ],
   "source": [
    "probs = gmm.predict_proba(fea5)\n",
    "print(probs[:5].round(3))\n",
    "# 计算每一个样本点的分类概率"
   ]
  },
  {
   "cell_type": "code",
   "execution_count": null,
   "metadata": {},
   "outputs": [],
   "source": [
    "# 聚类结果分析1可视化"
   ]
  },
  {
   "cell_type": "code",
   "execution_count": 102,
   "metadata": {},
   "outputs": [
    {
     "data": {
      "image/png": "[encoded data removed]",
      "text/plain": [
       "<Figure size 432x288 with 1 Axes>"
      ]
     },
     "metadata": {},
     "output_type": "display_data"
    }
   ],
   "source": [
    "size = 50 * probs.max(1) ** 2  # 由圆点面积反应概率值的差异\n",
    "plt.scatter(fea5[:, 0], fea5[:, 1], c=predict_label, cmap='viridis', s=size);"
   ]
  },
  {
   "cell_type": "code",
   "execution_count": null,
   "metadata": {},
   "outputs": [],
   "source": [
    "#5、聚类结果分析2 评价"
   ]
  },
  {
   "cell_type": "code",
   "execution_count": 93,
   "metadata": {},
   "outputs": [],
   "source": [
    "true_label= true_label5"
   ]
  },
  {
   "cell_type": "code",
   "execution_count": 94,
   "metadata": {},
   "outputs": [
    {
     "name": "stderr",
     "output_type": "stream",
     "text": [
      "D:\\Users\\Tianh\\Anaconda3\\envs\\pytorch\\lib\\site-packages\\sklearn\\metrics\\cluster\\supervised.py:746: FutureWarning: The behavior of AMI will change in version 0.22. To match the behavior of 'v_measure_score', AMI will use average_method='arithmetic' by default.\n",
      "  FutureWarning)\n"
     ]
    }
   ],
   "source": [
    "#Mutual Information based scores 互信息\n",
    "x1 = metrics.adjusted_mutual_info_score(true_label,predict_label)\n",
    "\n",
    "# Homogeneity 同质性 每个群集只包含单个类的成员\n",
    "x2 = metrics.homogeneity_score(true_label, predict_label)\n",
    "\n",
    "# completeness 完整性 类的所有成员都分配给同一个群集\n",
    "x3 = metrics.completeness_score(true_label, predict_label)\n",
    "\n",
    "# 两者的调和平均V-measure：\n",
    "x4 = metrics.v_measure_score(true_label, predict_label)\n",
    "\n",
    "#  Fowlkes-Mallows scores\n",
    "# The Fowlkes-Mallows score FMI is defined as the geometric mean \n",
    "# of the pairwise precision and recall:\n",
    "x5 = metrics.fowlkes_mallows_score(true_label,predict_label)\n",
    "\n",
    "# Silhouette Coefficient 轮廓系数\n",
    "# x6 = metrics.silhouette_score(fea1, predict_label, metric='euclidean')\n",
    "\n",
    "# Calinski-Harabaz Index 分数值ss越大则聚类效果越好\n",
    "# 类别内部数据的协方差越小越好，\n",
    "# 类别之间的协方差越大越好，这样的Calinski-Harabasz分数会高。\n",
    "# x7 = metrics.calinski_harabaz_score(fea1, predict_label)"
   ]
  },
  {
   "cell_type": "code",
   "execution_count": null,
   "metadata": {},
   "outputs": [],
   "source": [
    "#6、评价结果导出为csv文件"
   ]
  },
  {
   "cell_type": "code",
   "execution_count": 95,
   "metadata": {},
   "outputs": [],
   "source": [
    "rows = [['Mutual Information based scores',x1]\n",
    "       ,['Homogeneity',x2]\n",
    "       ,['completeness',x3]\n",
    "       ,['V-measure',x4]\n",
    "       ,['Fowlkes-Mallows scores',x5]\n",
    "#         ['Silhouette Coefficient',x6]\n",
    "#         ['Calinski-Harabaz Index',x7]\n",
    "       ]"
   ]
  },
  {
   "cell_type": "code",
   "execution_count": 96,
   "metadata": {},
   "outputs": [],
   "source": [
    "with open(r\"C:\\Users\\Tianh\\Desktop\\ans5.csv\",  'w' , newline='') as csv_file:\n",
    "     # 获取一个csv对象进行内容写入\n",
    "    writer=csv.writer(csv_file)\n",
    "    for row in rows:\n",
    "        # writerow 写入一行数据\n",
    "        writer.writerow(row)\n",
    "    # 写入多行\n",
    "    writer.writerows(rows)"
   ]
  }
 ],
 "metadata": {
  "kernelspec": {
   "display_name": "Python [conda env:pytorch]",
   "language": "python",
   "name": "conda-env-pytorch-py"
  },
  "language_info": {
   "codemirror_mode": {
    "name": "ipython",
    "version": 3
   },
   "file_extension": ".py",
   "mimetype": "text/x-python",
   "name": "python",
   "nbconvert_exporter": "python",
   "pygments_lexer": "ipython3",
   "version": "3.5.6"
  }
 },
 "nbformat": 4,
 "nbformat_minor": 2
}
