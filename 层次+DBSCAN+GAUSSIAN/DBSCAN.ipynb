{
 "cells": [
  {
   "cell_type": "code",
   "execution_count": 1,
   "metadata": {},
   "outputs": [],
   "source": [
    "\"\"\"\n",
    "author : Tianhao_Fu\n",
    "Email  : Tianhao_Fu@outlook.com\n",
    "date   : 2019/10/25\n",
    "\"\"\""
   ]
  },
  {
   "cell_type": "code",
   "execution_count": 4,
   "metadata": {},
   "outputs": [],
   "source": [
    "import numpy as np\n",
    "np.set_printoptions(suppress=True)\n",
    "import pandas as pd\n",
    "import matplotlib.pyplot as plt\n",
    "import scipy.io\n",
    "import csv\n",
    "\n",
    "from sklearn.cluster import DBSCAN\n",
    "from sklearn.cluster import KMeans\n",
    "from sklearn import metrics"
   ]
  },
  {
   "cell_type": "code",
   "execution_count": null,
   "metadata": {},
   "outputs": [],
   "source": [
    "#1、数据集导入"
   ]
  },
  {
   "cell_type": "code",
   "execution_count": 2,
   "metadata": {},
   "outputs": [],
   "source": [
    "data1 = scipy.io.loadmat('C:\\\\Users\\\\Tianh\\\\Desktop\\\\DMLab\\\\data\\\\face\\\\ORL_32x32.mat')\n",
    "df2 =pd.read_csv('C:\\\\Users\\\\Tianh\\\\Desktop\\\\DMLab\\\\data\\\\wineequality\\\\winequality-white.csv',delimiter=';')\n",
    "df3 =pd.read_csv('C:\\\\Users\\\\Tianh\\\\Desktop\\\\DMLab\\\\data\\\\wineequality\\\\winequality-red.csv',delimiter=';')\n",
    "data4 = scipy.io.loadmat('C:\\\\Users\\\\Tianh\\\\Desktop\\\\DMLab\\\\data\\\\face\\\\Yale_32x32.mat')\n",
    "data5 = pd.read_csv(r\"C:\\Users\\\\Tianh\\Desktop\\DMLab\\data\\Iris\\iris_data.csv\",header = None)"
   ]
  },
  {
   "cell_type": "code",
   "execution_count": null,
   "metadata": {},
   "outputs": [],
   "source": [
    "#2、数据集预处理得到数据集样本特征及标签"
   ]
  },
  {
   "cell_type": "code",
   "execution_count": 138,
   "metadata": {},
   "outputs": [],
   "source": [
    "fea1 = data['fea'].astype(np.float64)\n",
    "fea1 = data['fea'].astype(np.float64)\n",
    "true_label1= data['gnd'].ravel()\n",
    "\n",
    "fea2 = df2.drop('quality',axis=1)\n",
    "fea2 = np.array(fea2)\n",
    "true_label2 = df2['quality']\n",
    "true_label2 = np.array(true_label2)\n",
    "\n",
    "fea3 = df3.drop('quality',axis=1)\n",
    "fea3 = np.array(fea3)\n",
    "true_label3 = df3['quality']\n",
    "true_label3 = np.array(true_label3)\n",
    "\n",
    "fea4 = data4['fea'].astype(np.float64)\n",
    "true_label4= data4['gnd'].ravel()\n",
    "\n",
    "fea5 = np.array(data5.iloc[:,0:4])\n",
    "true_label5 = data5[4]"
   ]
  },
  {
   "cell_type": "code",
   "execution_count": 99,
   "metadata": {},
   "outputs": [
    {
     "data": {
      "text/plain": [
       "(150, 4)"
      ]
     },
     "execution_count": 99,
     "metadata": {},
     "output_type": "execute_result"
    }
   ],
   "source": [
    "fea5.shape"
   ]
  },
  {
   "cell_type": "code",
   "execution_count": null,
   "metadata": {},
   "outputs": [],
   "source": [
    "#3、DBSCAN聚类"
   ]
  },
  {
   "cell_type": "code",
   "execution_count": 130,
   "metadata": {},
   "outputs": [],
   "source": [
    "predict_label=DBSCAN(eps=0.5,min_samples=1).fit_predict(fea5)\n",
    "plt.scatter(fea1[:,0], fea2[:, 1], c=predict_label)\n",
    "plt.show()\n",
    "# eps min_samples 初始时值取得过大导致结果皆为一类\n",
    "# 如果数据量比较大的话，eps 就大一些，min_samples 就小一些，先跑一下看情况再继续调"
   ]
  },
  {
   "cell_type": "code",
   "execution_count": null,
   "metadata": {},
   "outputs": [],
   "source": [
    "# 4、K-means聚类（与DBSCAN结果相比较）"
   ]
  },
  {
   "cell_type": "code",
   "execution_count": 132,
   "metadata": {},
   "outputs": [],
   "source": [
    "predict_label = KMeans(n_clusters=3, random_state=9).fit_predict(fea1)\n",
    "plt.scatter(fea[:, 0], fea[:, 1], c=predict_label)\n",
    "plt.show()"
   ]
  },
  {
   "cell_type": "code",
   "execution_count": 144,
   "metadata": {},
   "outputs": [],
   "source": [
    "true_label= true_label5"
   ]
  },
  {
   "cell_type": "code",
   "execution_count": 145,
   "metadata": {},
   "outputs": [],
   "source": [
    "# print(fea1.shape)\n",
    "# print(true_label.shape)\n",
    "# print(predict_label.shape)"
   ]
  },
  {
   "cell_type": "code",
   "execution_count": null,
   "metadata": {},
   "outputs": [],
   "source": []
  },
  {
   "cell_type": "code",
   "execution_count": null,
   "metadata": {},
   "outputs": [],
   "source": [
    "# 5、结果分析 计算评价指标"
   ]
  },
  {
   "cell_type": "code",
   "execution_count": 146,
   "metadata": {},
   "outputs": [
    {
     "name": "stderr",
     "output_type": "stream",
     "text": [
      "D:\\Users\\Tianh\\Anaconda3\\envs\\pytorch\\lib\\site-packages\\sklearn\\metrics\\cluster\\supervised.py:746: FutureWarning: The behavior of AMI will change in version 0.22. To match the behavior of 'v_measure_score', AMI will use average_method='arithmetic' by default.\n",
      "  FutureWarning)\n"
     ]
    }
   ],
   "source": [
    "#Mutual Information based scores 互信息\n",
    "x1 = metrics.adjusted_mutual_info_score(true_label,predict_label)\n",
    "\n",
    "# Homogeneity 同质性 每个群集只包含单个类的成员\n",
    "x2 = metrics.homogeneity_score(true_label, predict_label)\n",
    "\n",
    "# completeness 完整性 类的所有成员都分配给同一个群集\n",
    "x3 = metrics.completeness_score(true_label, predict_label)\n",
    "\n",
    "# 两者的调和平均V-measure：\n",
    "x4 = metrics.v_measure_score(true_label, predict_label)\n",
    "\n",
    "#  Fowlkes-Mallows scores\n",
    "# The Fowlkes-Mallows score FMI is defined as the geometric mean \n",
    "# of the pairwise precision and recall:\n",
    "x5 = metrics.fowlkes_mallows_score(true_label,predict_label)\n",
    "\n",
    "# Silhouette Coefficient 轮廓系数\n",
    "# x6 = metrics.silhouette_score(fea1, predict_label, metric='euclidean')\n",
    "\n",
    "# Calinski-Harabaz Index 分数值ss越大则聚类效果越好\n",
    "# 类别内部数据的协方差越小越好，\n",
    "# 类别之间的协方差越大越好，这样的Calinski-Harabasz分数会高。\n",
    "# x7 = metrics.calinski_harabaz_score(fea1, predict_label)"
   ]
  },
  {
   "cell_type": "code",
   "execution_count": null,
   "metadata": {},
   "outputs": [],
   "source": [
    "# 6、将评价指标导出为csv文件"
   ]
  },
  {
   "cell_type": "code",
   "execution_count": 147,
   "metadata": {},
   "outputs": [],
   "source": [
    "rows = [['Mutual Information based scores',x1]\n",
    "       ,['Homogeneity',x2]\n",
    "       ,['completeness',x3]\n",
    "       ,['V-measure',x4]\n",
    "       ,['Fowlkes-Mallows scores',x5]\n",
    "#         ['Silhouette Coefficient',x6]\n",
    "#         ['Calinski-Harabaz Index',x7]\n",
    "       ]\n"
   ]
  },
  {
   "cell_type": "code",
   "execution_count": 148,
   "metadata": {},
   "outputs": [],
   "source": [
    "with open(r\"C:\\Users\\Tianh\\Desktop\\ans1.csv\",  'w' , newline='') as csv_file:\n",
    "     # 获取一个csv对象进行内容写入\n",
    "    writer=csv.writer(csv_file)\n",
    "    for row in rows:\n",
    "        # writerow 写入一行数据\n",
    "        writer.writerow(row)\n",
    "    # 写入多行\n",
    "    writer.writerows(rows)"
   ]
  }
 ],
 "metadata": {
  "kernelspec": {
   "display_name": "Python [conda env:pytorch]",
   "language": "python",
   "name": "conda-env-pytorch-py"
  },
  "language_info": {
   "codemirror_mode": {
    "name": "ipython",
    "version": 3
   },
   "file_extension": ".py",
   "mimetype": "text/x-python",
   "name": "python",
   "nbconvert_exporter": "python",
   "pygments_lexer": "ipython3",
   "version": "3.5.6"
  }
 },
 "nbformat": 4,
 "nbformat_minor": 2
}
