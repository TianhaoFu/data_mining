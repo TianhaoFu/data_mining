{
 "cells": [
  {
   "cell_type": "code",
   "execution_count": 1,
   "metadata": {},
   "outputs": [
    {
     "data": {
      "text/plain": [
       "'\\nauthor : Tianhao_Fu\\nEmail  : Tianhao_Fu@outlook.com\\ndate   : 2019/10/25\\n'"
      ]
     },
     "execution_count": 1,
     "metadata": {},
     "output_type": "execute_result"
    }
   ],
   "source": [
    "\"\"\"\n",
    "author : Tianhao_Fu\n",
    "Email  : Tianhao_Fu@outlook.com\n",
    "date   : 2019/10/25\n",
    "\"\"\""
   ]
  },
  {
   "cell_type": "code",
   "execution_count": null,
   "metadata": {},
   "outputs": [],
   "source": [
    "import numpy as np\n",
    "import pandas as pd\n",
    "import matplotlib as plt\n",
    "\n",
    "import scipy.io\n",
    "import scipy.cluster.hierarchy as sch\n",
    "\n",
    "import seaborn as sns"
   ]
  },
  {
   "cell_type": "code",
   "execution_count": null,
   "metadata": {},
   "outputs": [],
   "source": [
    "#1、数据集导入"
   ]
  },
  {
   "cell_type": "code",
   "execution_count": 27,
   "metadata": {},
   "outputs": [],
   "source": [
    "data1 = scipy.io.loadmat('C:\\\\Users\\\\Tianh\\\\Desktop\\\\DMLab\\\\data\\\\face\\\\ORL_32x32.mat')\n",
    "df2 =pd.read_csv('C:\\\\Users\\\\Tianh\\\\Desktop\\\\DMLab\\\\data\\\\wineequality\\\\winequality-white.csv',delimiter=';')\n",
    "df3 =pd.read_csv('C:\\\\Users\\\\Tianh\\\\Desktop\\\\DMLab\\\\data\\\\wineequality\\\\winequality-red.csv',delimiter=';')\n",
    "data4 = scipy.io.loadmat('C:\\\\Users\\\\Tianh\\\\Desktop\\\\DMLab\\\\data\\\\face\\\\Yale_32x32.mat')\n",
    "data5 = pd.read_csv(r\"C:\\Users\\\\Tianh\\Desktop\\DMLab\\data\\Iris\\iris_data.csv\",header = None)"
   ]
  },
  {
   "cell_type": "code",
   "execution_count": null,
   "metadata": {},
   "outputs": [],
   "source": [
    "#2、数据集预处理得到数据集样本特征及标签"
   ]
  },
  {
   "cell_type": "code",
   "execution_count": 28,
   "metadata": {},
   "outputs": [],
   "source": [
    "fea1 = data['fea'].astype(np.float64)\n",
    "fea1 = data['fea'].astype(np.float64)\n",
    "true_label1= data['gnd'].ravel()\n",
    "\n",
    "fea2 = df2.drop('quality',axis=1)\n",
    "fea2 = np.array(fea2)\n",
    "true_label2 = df2['quality']\n",
    "true_label2 = np.array(true_label2)\n",
    "\n",
    "fea3 = df3.drop('quality',axis=1)\n",
    "fea3 = np.array(fea3)\n",
    "true_label3 = df3['quality']\n",
    "true_label3 = np.array(true_label3)\n",
    "\n",
    "fea4 = data4['fea'].astype(np.float64)\n",
    "true_label4= data4['gnd'].ravel()\n",
    "\n",
    "fea5 = np.array(data5.iloc[:,0:4])\n",
    "true_label5 = data5[4]"
   ]
  },
  {
   "cell_type": "code",
   "execution_count": 17,
   "metadata": {},
   "outputs": [],
   "source": [
    "# print(data['gnd'])\n",
    "# print(type(data['gnd']))\n",
    "# print(data['gnd'].shape)\n",
    "true_label= data['gnd'].ravel()  #降维 返回视图\n",
    "# print(gnd)\n",
    "# print(type(true_label))\n",
    "# print(true_label.shape)\n",
    "# print(true_label)"
   ]
  },
  {
   "cell_type": "code",
   "execution_count": null,
   "metadata": {},
   "outputs": [],
   "source": [
    "#3、层次聚类"
   ]
  },
  {
   "cell_type": "code",
   "execution_count": 34,
   "metadata": {},
   "outputs": [
    {
     "data": {
      "image/png": "[encoded data removed]",
      "text/plain": [
       "<Figure size 432x288 with 1 Axes>"
      ]
     },
     "metadata": {
      "needs_background": "light"
     },
     "output_type": "display_data"
    }
   ],
   "source": [
    "disMat = sch.distance.pdist(fea5,'euclidean') \n",
    "Z=sch.linkage(disMat,method='average')\n",
    "P=sch.dendrogram(Z)\n",
    "# plt.show()\n",
    "# plt.savefig('plot_dendrogram.png')\n",
    "# cluster= sch.fcluster(Z, t=1, 'inconsistent') \n",
    "# print(\"Original cluster by hierarchy clustering:\\n\",cluster)"
   ]
  },
  {
   "cell_type": "code",
   "execution_count": 23,
   "metadata": {},
   "outputs": [],
   "source": [
    "# 一般用层次聚类大致观察之后确定K-means中K的大小"
   ]
  },
  {
   "cell_type": "code",
   "execution_count": 31,
   "metadata": {},
   "outputs": [],
   "source": [
    "# 绘制热图\n",
    "# sns.clustermap(data,method ='ward',metric='euclidean')"
   ]
  },
  {
   "cell_type": "code",
   "execution_count": null,
   "metadata": {},
   "outputs": [],
   "source": []
  }
 ],
 "metadata": {
  "kernelspec": {
   "display_name": "Python [conda env:pytorch]",
   "language": "python",
   "name": "conda-env-pytorch-py"
  },
  "language_info": {
   "codemirror_mode": {
    "name": "ipython",
    "version": 3
   },
   "file_extension": ".py",
   "mimetype": "text/x-python",
   "name": "python",
   "nbconvert_exporter": "python",
   "pygments_lexer": "ipython3",
   "version": "3.5.6"
  }
 },
 "nbformat": 4,
 "nbformat_minor": 2
}
